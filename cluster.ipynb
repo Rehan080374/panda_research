{
 "cells": [
  {
   "cell_type": "code",
   "execution_count": 2,
   "metadata": {},
   "outputs": [],
   "source": [
    "import matplotlib.pyplot as plt\n",
    "from kneed import KneeLocator\n",
    "from sklearn.datasets import make_blobs\n",
    "from sklearn.cluster import KMeans\n",
    "from sklearn.metrics import silhouette_score\n",
    "from sklearn.preprocessing import StandardScaler"
   ]
  },
  {
   "cell_type": "code",
   "execution_count": 3,
   "metadata": {},
   "outputs": [],
   "source": [
    "from sklearn.cluster import KMeans\n",
    "import pandas as pd\n",
    "import numpy as np\n",
    "import pickle"
   ]
  },
  {
   "cell_type": "code",
   "execution_count": 26,
   "metadata": {},
   "outputs": [],
   "source": [
    "input_data = pd.read_csv(\"/home/rehan/ws_moveit/src/machine learning/rotation/force_r_1.csv\", sep=\",\")\n",
    "input_data.isna()\n",
    "\n",
    "input_data=input_data.dropna(axis=1, how='any', thresh=None, subset=None, inplace=False)"
   ]
  },
  {
   "cell_type": "code",
   "execution_count": 27,
   "metadata": {},
   "outputs": [],
   "source": [
    "kmeans = KMeans(n_clusters=4)"
   ]
  },
  {
   "cell_type": "code",
   "execution_count": 28,
   "metadata": {},
   "outputs": [
    {
     "data": {
      "text/plain": [
       "KMeans(n_clusters=4)"
      ]
     },
     "execution_count": 28,
     "metadata": {},
     "output_type": "execute_result"
    }
   ],
   "source": [
    "\n",
    "kmeans.fit(input_data.values)"
   ]
  },
  {
   "cell_type": "code",
   "execution_count": 30,
   "metadata": {},
   "outputs": [
    {
     "name": "stdout",
     "output_type": "stream",
     "text": [
      "[2 2 2 ... 2 2 2]\n"
     ]
    }
   ],
   "source": [
    "predicted_class = kmeans.predict(input_data.values)\n",
    "print(predicted_class)"
   ]
  },
  {
   "cell_type": "code",
   "execution_count": 31,
   "metadata": {},
   "outputs": [],
   "source": [
    "input_data['cluster'] = predicted_class\n"
   ]
  },
  {
   "cell_type": "code",
   "execution_count": 32,
   "metadata": {},
   "outputs": [
    {
     "name": "stdout",
     "output_type": "stream",
     "text": [
      "       joint_effort[0]  joint_effort[1]  joint_effort[2]  joint_effort[3]  \\\n",
      "0             0.420906        -0.807291        -0.980459         0.009607   \n",
      "1             0.370947        -0.826753        -0.989734         0.004175   \n",
      "2             0.404063        -0.820281        -0.969574         0.006045   \n",
      "3             0.428265        -0.817725        -0.990720         0.003543   \n",
      "4             0.372191        -0.817397        -1.003641         0.005871   \n",
      "...                ...              ...              ...              ...   \n",
      "21904         0.468336        -0.578074        -0.782846        -0.024543   \n",
      "21905         0.478201        -0.504955        -0.768224        -0.009605   \n",
      "21906         0.474657        -0.522111        -0.758222        -0.014407   \n",
      "21907         0.456091        -0.515967        -0.736586        -0.011272   \n",
      "21908         0.470656        -0.513611        -0.746977        -0.009723   \n",
      "\n",
      "       joint_effort[4]  joint_effort[5]  cluster  \n",
      "0            -0.259460        -0.039749        2  \n",
      "1            -0.251303        -0.038374        2  \n",
      "2            -0.259236        -0.037409        2  \n",
      "3            -0.265813        -0.036458        2  \n",
      "4            -0.254078        -0.038853        2  \n",
      "...                ...              ...      ...  \n",
      "21904        -0.162794         0.003145        2  \n",
      "21905        -0.164506         0.002164        2  \n",
      "21906        -0.163666         0.002753        2  \n",
      "21907        -0.156470        -0.002752        2  \n",
      "21908        -0.159343        -0.004040        2  \n",
      "\n",
      "[21909 rows x 7 columns]\n"
     ]
    }
   ],
   "source": [
    "print(input_data)"
   ]
  },
  {
   "cell_type": "code",
   "execution_count": 24,
   "metadata": {},
   "outputs": [],
   "source": [
    "input_data.to_csv(\"/home/rehan/ws_moveit/src/machine learning/translations/force_rotation_1_labeled_k4.csv\")"
   ]
  },
  {
   "cell_type": "code",
   "execution_count": 35,
   "metadata": {},
   "outputs": [
    {
     "name": "stdout",
     "output_type": "stream",
     "text": [
      "[0 0 0 ... 0 0 0]\n"
     ]
    }
   ],
   "source": [
    "input_data1 = pd.read_csv(\"/home/rehan/ws_moveit/src/machine learning/translations/force.csv\", sep=\",\")\n",
    "#kmeans = KMeans(n_clusters=2)\n",
    "#kmeans.fit(input_data1.values)\n",
    "input_data1=input_data.dropna(axis=1, how='any', thresh=None, subset=None, inplace=False)\n",
    "predicted = kmeans.predict(input_data1.values)\n",
    "print(predicted)"
   ]
  },
  {
   "cell_type": "code",
   "execution_count": 37,
   "metadata": {},
   "outputs": [
    {
     "name": "stdout",
     "output_type": "stream",
     "text": [
      "       joint_effort[0]  joint_effort[1]  joint_effort[2]  joint_effort[3]  \\\n",
      "0             1.876725        -0.257566        -0.047946        -0.288197   \n",
      "1             1.857121        -0.256775        -0.048082        -0.289273   \n",
      "2             1.881986        -0.254120        -0.059156        -0.287997   \n",
      "3             1.874046        -0.344921        -0.062330        -0.308906   \n",
      "4             1.895833        -0.222239        -0.080636        -0.284177   \n",
      "...                ...              ...              ...              ...   \n",
      "21855         3.422172        -1.644572        -0.246624        -0.030598   \n",
      "21856         3.445835        -1.658033        -0.340505        -0.033999   \n",
      "21857         3.416307        -1.770720        -0.372586        -0.052106   \n",
      "21858         3.435653        -1.704555        -0.354842        -0.039982   \n",
      "21859         3.417295        -1.733621        -0.193935        -0.050790   \n",
      "\n",
      "       joint_effort[4]  joint_effort[5]  cluster  \n",
      "0            -0.495417         0.065963        0  \n",
      "1            -0.491761         0.067335        0  \n",
      "2            -0.497292         0.066484        0  \n",
      "3            -0.496276         0.069238        0  \n",
      "4            -0.503217         0.069447        0  \n",
      "...                ...              ...      ...  \n",
      "21855        -0.581678         0.168529        0  \n",
      "21856        -0.589987         0.168024        0  \n",
      "21857        -0.587963         0.168435        0  \n",
      "21858        -0.588203         0.167543        0  \n",
      "21859        -0.579954         0.171949        0  \n",
      "\n",
      "[21860 rows x 7 columns]\n"
     ]
    }
   ],
   "source": [
    "input_data1['cluster'] = predicted\n",
    "print(input_data1)"
   ]
  },
  {
   "cell_type": "code",
   "execution_count": 31,
   "metadata": {},
   "outputs": [],
   "source": [
    "input_data1.to_csv(\"/home/rehan/ws_moveit/src/machine learning/results/force_translation_1.csv.csv\")\n"
   ]
  },
  {
   "cell_type": "code",
   "execution_count": 34,
   "metadata": {},
   "outputs": [],
   "source": [
    "import numpy as np # linear algebra\n",
    "import pandas as pd # data processing, CSV file I/O (e.g. pd.read_csv)\n",
    "import random as rd\n",
    "import matplotlib.pyplot as plt\n",
    "from math import sqrt\n",
    "import matplotlib.pyplot as mp\n",
    "import numpy as np\n",
    "from sklearn.pipeline import make_pipeline\n",
    "from sklearn.preprocessing import StandardScaler\n",
    "\n"
   ]
  },
  {
   "cell_type": "code",
   "execution_count": 75,
   "metadata": {},
   "outputs": [
    {
     "data": {
      "text/html": [
       "<div>\n",
       "<style scoped>\n",
       "    .dataframe tbody tr th:only-of-type {\n",
       "        vertical-align: middle;\n",
       "    }\n",
       "\n",
       "    .dataframe tbody tr th {\n",
       "        vertical-align: top;\n",
       "    }\n",
       "\n",
       "    .dataframe thead th {\n",
       "        text-align: right;\n",
       "    }\n",
       "</style>\n",
       "<table border=\"1\" class=\"dataframe\">\n",
       "  <thead>\n",
       "    <tr style=\"text-align: right;\">\n",
       "      <th></th>\n",
       "      <th>joint_effort[0]</th>\n",
       "      <th>joint_effort[1]</th>\n",
       "      <th>joint_effort[2]</th>\n",
       "      <th>joint_effort[3]</th>\n",
       "      <th>joint_effort[4]</th>\n",
       "      <th>joint_effort[5]</th>\n",
       "      <th>joint_effort[6]</th>\n",
       "      <th>cluster</th>\n",
       "    </tr>\n",
       "  </thead>\n",
       "  <tbody>\n",
       "    <tr>\n",
       "      <th>0</th>\n",
       "      <td>0.146015</td>\n",
       "      <td>-0.345171</td>\n",
       "      <td>0.060238</td>\n",
       "      <td>1.057072</td>\n",
       "      <td>-0.024351</td>\n",
       "      <td>0.468591</td>\n",
       "      <td>0.029464</td>\n",
       "      <td>0</td>\n",
       "    </tr>\n",
       "    <tr>\n",
       "      <th>1</th>\n",
       "      <td>0.127741</td>\n",
       "      <td>-0.347952</td>\n",
       "      <td>0.037852</td>\n",
       "      <td>1.058096</td>\n",
       "      <td>-0.026369</td>\n",
       "      <td>0.468277</td>\n",
       "      <td>0.028767</td>\n",
       "      <td>0</td>\n",
       "    </tr>\n",
       "    <tr>\n",
       "      <th>2</th>\n",
       "      <td>0.164548</td>\n",
       "      <td>-0.334746</td>\n",
       "      <td>0.073059</td>\n",
       "      <td>1.033379</td>\n",
       "      <td>-0.024738</td>\n",
       "      <td>0.462316</td>\n",
       "      <td>0.027505</td>\n",
       "      <td>0</td>\n",
       "    </tr>\n",
       "    <tr>\n",
       "      <th>3</th>\n",
       "      <td>0.172493</td>\n",
       "      <td>-0.338099</td>\n",
       "      <td>0.075205</td>\n",
       "      <td>1.042974</td>\n",
       "      <td>-0.024274</td>\n",
       "      <td>0.463160</td>\n",
       "      <td>0.025120</td>\n",
       "      <td>0</td>\n",
       "    </tr>\n",
       "    <tr>\n",
       "      <th>4</th>\n",
       "      <td>0.128463</td>\n",
       "      <td>-0.343617</td>\n",
       "      <td>0.042871</td>\n",
       "      <td>1.058580</td>\n",
       "      <td>-0.025639</td>\n",
       "      <td>0.468418</td>\n",
       "      <td>0.025372</td>\n",
       "      <td>0</td>\n",
       "    </tr>\n",
       "  </tbody>\n",
       "</table>\n",
       "</div>"
      ],
      "text/plain": [
       "   joint_effort[0]  joint_effort[1]  joint_effort[2]  joint_effort[3]  \\\n",
       "0         0.146015        -0.345171         0.060238         1.057072   \n",
       "1         0.127741        -0.347952         0.037852         1.058096   \n",
       "2         0.164548        -0.334746         0.073059         1.033379   \n",
       "3         0.172493        -0.338099         0.075205         1.042974   \n",
       "4         0.128463        -0.343617         0.042871         1.058580   \n",
       "\n",
       "   joint_effort[4]  joint_effort[5]  joint_effort[6]  cluster  \n",
       "0        -0.024351         0.468591         0.029464        0  \n",
       "1        -0.026369         0.468277         0.028767        0  \n",
       "2        -0.024738         0.462316         0.027505        0  \n",
       "3        -0.024274         0.463160         0.025120        0  \n",
       "4        -0.025639         0.468418         0.025372        0  "
      ]
     },
     "execution_count": 75,
     "metadata": {},
     "output_type": "execute_result"
    }
   ],
   "source": [
    "data = pd.read_csv(\"/home/rehan/ws_moveit/src/machine learning/combined/combined_train.csv\")\n",
    "\n",
    "data.head()\n"
   ]
  },
  {
   "cell_type": "code",
   "execution_count": 76,
   "metadata": {},
   "outputs": [
    {
     "data": {
      "text/html": [
       "<div>\n",
       "<style scoped>\n",
       "    .dataframe tbody tr th:only-of-type {\n",
       "        vertical-align: middle;\n",
       "    }\n",
       "\n",
       "    .dataframe tbody tr th {\n",
       "        vertical-align: top;\n",
       "    }\n",
       "\n",
       "    .dataframe thead th {\n",
       "        text-align: right;\n",
       "    }\n",
       "</style>\n",
       "<table border=\"1\" class=\"dataframe\">\n",
       "  <thead>\n",
       "    <tr style=\"text-align: right;\">\n",
       "      <th></th>\n",
       "      <th>joint_effort[0]</th>\n",
       "      <th>joint_effort[1]</th>\n",
       "      <th>joint_effort[2]</th>\n",
       "      <th>joint_effort[3]</th>\n",
       "      <th>joint_effort[4]</th>\n",
       "      <th>joint_effort[5]</th>\n",
       "      <th>joint_effort[6]</th>\n",
       "    </tr>\n",
       "  </thead>\n",
       "  <tbody>\n",
       "    <tr>\n",
       "      <th>0</th>\n",
       "      <td>-0.015909</td>\n",
       "      <td>-0.051101</td>\n",
       "      <td>-0.134213</td>\n",
       "      <td>1.177539</td>\n",
       "      <td>0.107070</td>\n",
       "      <td>0.426092</td>\n",
       "      <td>-0.092935</td>\n",
       "    </tr>\n",
       "    <tr>\n",
       "      <th>1</th>\n",
       "      <td>-0.013123</td>\n",
       "      <td>-0.074854</td>\n",
       "      <td>-0.133023</td>\n",
       "      <td>1.212580</td>\n",
       "      <td>0.107993</td>\n",
       "      <td>0.432952</td>\n",
       "      <td>-0.094747</td>\n",
       "    </tr>\n",
       "    <tr>\n",
       "      <th>2</th>\n",
       "      <td>-0.023585</td>\n",
       "      <td>-0.061250</td>\n",
       "      <td>-0.138058</td>\n",
       "      <td>1.183486</td>\n",
       "      <td>0.106109</td>\n",
       "      <td>0.426131</td>\n",
       "      <td>-0.096289</td>\n",
       "    </tr>\n",
       "    <tr>\n",
       "      <th>3</th>\n",
       "      <td>-0.010430</td>\n",
       "      <td>-0.062535</td>\n",
       "      <td>-0.134967</td>\n",
       "      <td>1.198084</td>\n",
       "      <td>0.105645</td>\n",
       "      <td>0.430897</td>\n",
       "      <td>-0.094587</td>\n",
       "    </tr>\n",
       "    <tr>\n",
       "      <th>4</th>\n",
       "      <td>-0.018656</td>\n",
       "      <td>-0.051011</td>\n",
       "      <td>-0.138731</td>\n",
       "      <td>1.169587</td>\n",
       "      <td>0.106349</td>\n",
       "      <td>0.422105</td>\n",
       "      <td>-0.094436</td>\n",
       "    </tr>\n",
       "  </tbody>\n",
       "</table>\n",
       "</div>"
      ],
      "text/plain": [
       "   joint_effort[0]  joint_effort[1]  joint_effort[2]  joint_effort[3]  \\\n",
       "0        -0.015909        -0.051101        -0.134213         1.177539   \n",
       "1        -0.013123        -0.074854        -0.133023         1.212580   \n",
       "2        -0.023585        -0.061250        -0.138058         1.183486   \n",
       "3        -0.010430        -0.062535        -0.134967         1.198084   \n",
       "4        -0.018656        -0.051011        -0.138731         1.169587   \n",
       "\n",
       "   joint_effort[4]  joint_effort[5]  joint_effort[6]  \n",
       "0         0.107070         0.426092        -0.092935  \n",
       "1         0.107993         0.432952        -0.094747  \n",
       "2         0.106109         0.426131        -0.096289  \n",
       "3         0.105645         0.430897        -0.094587  \n",
       "4         0.106349         0.422105        -0.094436  "
      ]
     },
     "execution_count": 76,
     "metadata": {},
     "output_type": "execute_result"
    }
   ],
   "source": [
    "data_u = pd.read_csv(\"/home/rehan/ws_moveit/src/machine learning/combined/combined_Y-T_Z-R.csv\")\n",
    "data_u.head()\n"
   ]
  },
  {
   "cell_type": "code",
   "execution_count": 23,
   "metadata": {},
   "outputs": [
    {
     "name": "stdout",
     "output_type": "stream",
     "text": [
      "(18175, 7)\n",
      "(18175, 1)\n",
      "(4544, 7)\n",
      "(4544, 1)\n"
     ]
    }
   ],
   "source": [
    "#df.iloc[row_start:row_end , col_start, col_end]\n",
    "\n",
    "from sklearn.model_selection import train_test_split\n",
    "\n",
    "\n",
    "\n",
    "df = pd.DataFrame(input_data)\n",
    "x= df.iloc[: , :-1]\n",
    "X=x.to_numpy()\n",
    "\n",
    "y= df.iloc[: ,7 :9]\n",
    "Y=y.to_numpy()\n",
    "#print(y)\n",
    "#Y=Y.reshape(1,9087)\n",
    "X_train, X_test, y_train, y_test = train_test_split(X, Y, test_size=0.2, random_state=42)\n",
    "print(X_train.shape)\n",
    "print(y_train.shape)\n",
    "print(X_test.shape)\n",
    "print(y_test.shape)\n"
   ]
  },
  {
   "cell_type": "code",
   "execution_count": 26,
   "metadata": {},
   "outputs": [
    {
     "ename": "NameError",
     "evalue": "name 'make_pipeline' is not defined",
     "output_type": "error",
     "traceback": [
      "\u001b[0;31m---------------------------------------------------------------------------\u001b[0m",
      "\u001b[0;31mNameError\u001b[0m                                 Traceback (most recent call last)",
      "\u001b[1;32m/home/rehan/cluster.ipynb Cell 17\u001b[0m in \u001b[0;36m<cell line: 2>\u001b[0;34m()\u001b[0m\n\u001b[1;32m      <a href='vscode-notebook-cell:/home/rehan/cluster.ipynb#ch0000016?line=0'>1</a>\u001b[0m \u001b[39mfrom\u001b[39;00m \u001b[39msklearn\u001b[39;00m\u001b[39m.\u001b[39;00m\u001b[39msvm\u001b[39;00m \u001b[39mimport\u001b[39;00m SVC\n\u001b[0;32m----> <a href='vscode-notebook-cell:/home/rehan/cluster.ipynb#ch0000016?line=1'>2</a>\u001b[0m clf \u001b[39m=\u001b[39m make_pipeline(StandardScaler(), SVC(gamma\u001b[39m=\u001b[39m\u001b[39m'\u001b[39m\u001b[39mauto\u001b[39m\u001b[39m'\u001b[39m))\n\u001b[1;32m      <a href='vscode-notebook-cell:/home/rehan/cluster.ipynb#ch0000016?line=2'>3</a>\u001b[0m clf\u001b[39m.\u001b[39mfit(X_train, y_train)\n",
      "\u001b[0;31mNameError\u001b[0m: name 'make_pipeline' is not defined"
     ]
    }
   ],
   "source": [
    "\n",
    "from sklearn.svm import SVC\n",
    "clf = make_pipeline(StandardScaler(), SVC(gamma='auto'))\n",
    "clf.fit(X_train, y_train)\n"
   ]
  },
  {
   "cell_type": "code",
   "execution_count": 27,
   "metadata": {},
   "outputs": [
    {
     "name": "stdout",
     "output_type": "stream",
     "text": [
      "(4544,)\n",
      "(4544,)\n"
     ]
    },
    {
     "data": {
      "text/plain": [
       "1.0"
      ]
     },
     "execution_count": 27,
     "metadata": {},
     "output_type": "execute_result"
    }
   ],
   "source": [
    "y_predicted=kmeans.predict(X_test)\n",
    "print(y_predicted.shape)\n",
    "\n",
    "from sklearn.metrics import accuracy_score\n",
    "y_test = y_test.flatten('F')\n",
    "print(y_test.shape)\n",
    "accuracy_score(y_test, y_predicted)"
   ]
  },
  {
   "cell_type": "code",
   "execution_count": 29,
   "metadata": {},
   "outputs": [],
   "source": [
    "df['predicted']=kmeans.predict(X)\n",
    "df.head()\n",
    "df.to_csv(\"/home/rehan/ws_moveit/src/machine learning/results/spaced_labeled_results.csv\")"
   ]
  },
  {
   "cell_type": "code",
   "execution_count": null,
   "metadata": {},
   "outputs": [],
   "source": []
  },
  {
   "cell_type": "code",
   "execution_count": 73,
   "metadata": {},
   "outputs": [
    {
     "data": {
      "text/html": [
       "<div>\n",
       "<style scoped>\n",
       "    .dataframe tbody tr th:only-of-type {\n",
       "        vertical-align: middle;\n",
       "    }\n",
       "\n",
       "    .dataframe tbody tr th {\n",
       "        vertical-align: top;\n",
       "    }\n",
       "\n",
       "    .dataframe thead th {\n",
       "        text-align: right;\n",
       "    }\n",
       "</style>\n",
       "<table border=\"1\" class=\"dataframe\">\n",
       "  <thead>\n",
       "    <tr style=\"text-align: right;\">\n",
       "      <th></th>\n",
       "      <th>joint_effort[0]</th>\n",
       "      <th>joint_effort[1]</th>\n",
       "      <th>joint_effort[2]</th>\n",
       "      <th>joint_effort[3]</th>\n",
       "      <th>joint_effort[4]</th>\n",
       "      <th>joint_effort[5]</th>\n",
       "      <th>joint_effort[6]</th>\n",
       "    </tr>\n",
       "  </thead>\n",
       "  <tbody>\n",
       "    <tr>\n",
       "      <th>0</th>\n",
       "      <td>-0.015909</td>\n",
       "      <td>-0.051101</td>\n",
       "      <td>-0.134213</td>\n",
       "      <td>1.177539</td>\n",
       "      <td>0.107070</td>\n",
       "      <td>0.426092</td>\n",
       "      <td>-0.092935</td>\n",
       "    </tr>\n",
       "    <tr>\n",
       "      <th>1</th>\n",
       "      <td>-0.013123</td>\n",
       "      <td>-0.074854</td>\n",
       "      <td>-0.133023</td>\n",
       "      <td>1.212580</td>\n",
       "      <td>0.107993</td>\n",
       "      <td>0.432952</td>\n",
       "      <td>-0.094747</td>\n",
       "    </tr>\n",
       "    <tr>\n",
       "      <th>2</th>\n",
       "      <td>-0.023585</td>\n",
       "      <td>-0.061250</td>\n",
       "      <td>-0.138058</td>\n",
       "      <td>1.183486</td>\n",
       "      <td>0.106109</td>\n",
       "      <td>0.426131</td>\n",
       "      <td>-0.096289</td>\n",
       "    </tr>\n",
       "    <tr>\n",
       "      <th>3</th>\n",
       "      <td>-0.010430</td>\n",
       "      <td>-0.062535</td>\n",
       "      <td>-0.134967</td>\n",
       "      <td>1.198084</td>\n",
       "      <td>0.105645</td>\n",
       "      <td>0.430897</td>\n",
       "      <td>-0.094587</td>\n",
       "    </tr>\n",
       "    <tr>\n",
       "      <th>4</th>\n",
       "      <td>-0.018656</td>\n",
       "      <td>-0.051011</td>\n",
       "      <td>-0.138731</td>\n",
       "      <td>1.169587</td>\n",
       "      <td>0.106349</td>\n",
       "      <td>0.422105</td>\n",
       "      <td>-0.094436</td>\n",
       "    </tr>\n",
       "  </tbody>\n",
       "</table>\n",
       "</div>"
      ],
      "text/plain": [
       "   joint_effort[0]  joint_effort[1]  joint_effort[2]  joint_effort[3]  \\\n",
       "0        -0.015909        -0.051101        -0.134213         1.177539   \n",
       "1        -0.013123        -0.074854        -0.133023         1.212580   \n",
       "2        -0.023585        -0.061250        -0.138058         1.183486   \n",
       "3        -0.010430        -0.062535        -0.134967         1.198084   \n",
       "4        -0.018656        -0.051011        -0.138731         1.169587   \n",
       "\n",
       "   joint_effort[4]  joint_effort[5]  joint_effort[6]  \n",
       "0         0.107070         0.426092        -0.092935  \n",
       "1         0.107993         0.432952        -0.094747  \n",
       "2         0.106109         0.426131        -0.096289  \n",
       "3         0.105645         0.430897        -0.094587  \n",
       "4         0.106349         0.422105        -0.094436  "
      ]
     },
     "execution_count": 73,
     "metadata": {},
     "output_type": "execute_result"
    }
   ],
   "source": [
    "df_u = pd.DataFrame(data_u)\n",
    "df_u.head()"
   ]
  },
  {
   "cell_type": "code",
   "execution_count": 78,
   "metadata": {},
   "outputs": [
    {
     "name": "stdout",
     "output_type": "stream",
     "text": [
      "(3049,)\n"
     ]
    },
    {
     "name": "stderr",
     "output_type": "stream",
     "text": [
      "/home/rehan/anaconda3/lib/python3.9/site-packages/sklearn/base.py:443: UserWarning: X has feature names, but StandardScaler was fitted without feature names\n",
      "  warnings.warn(\n"
     ]
    }
   ],
   "source": [
    "#x1= df.iloc[: , :-1]\n",
    "#X1=x.to_numpy()\n",
    "y_predicted1=clf.predict(df_u)\n",
    "print(y_predicted1.shape)"
   ]
  },
  {
   "cell_type": "code",
   "execution_count": 80,
   "metadata": {},
   "outputs": [],
   "source": [
    "df_u['predicted']=y_predicted1\n",
    "df.head()\n",
    "df_u.to_csv(\"/home/rehan/ws_moveit/src/machine learning/results/combined_labeled_results_untrained.csv\")"
   ]
  }
 ],
 "metadata": {
  "kernelspec": {
   "display_name": "Python 3.9.12 ('base')",
   "language": "python",
   "name": "python3"
  },
  "language_info": {
   "codemirror_mode": {
    "name": "ipython",
    "version": 3
   },
   "file_extension": ".py",
   "mimetype": "text/x-python",
   "name": "python",
   "nbconvert_exporter": "python",
   "pygments_lexer": "ipython3",
   "version": "3.9.12"
  },
  "orig_nbformat": 4,
  "vscode": {
   "interpreter": {
    "hash": "4204c97cd74096bf8a351449eef0691972bb4b7e822d51c6e1fbb9d884c7012a"
   }
  }
 },
 "nbformat": 4,
 "nbformat_minor": 2
}
