{
 "cells": [
  {
   "cell_type": "code",
   "execution_count": 24,
   "metadata": {},
   "outputs": [],
   "source": [
    "import matplotlib.pyplot as plt\n",
    "from kneed import KneeLocator\n",
    "from sklearn.datasets import make_blobs\n",
    "from sklearn.cluster import KMeans\n",
    "from sklearn.metrics import silhouette_score\n",
    "from sklearn.preprocessing import StandardScaler"
   ]
  },
  {
   "cell_type": "code",
   "execution_count": 25,
   "metadata": {},
   "outputs": [],
   "source": [
    "from sklearn.cluster import KMeans\n",
    "import pandas as pd\n",
    "import numpy as np\n",
    "import pickle"
   ]
  },
  {
   "cell_type": "code",
   "execution_count": 28,
   "metadata": {},
   "outputs": [],
   "source": [
    "input_data = pd.read_csv(\"rotation_sep_8.csv\", sep=\",\")\n",
    "input_data.isna()\n",
    "\n",
    "input_data=input_data.dropna(axis=1, how='any', thresh=None, subset=None, inplace=False)"
   ]
  },
  {
   "cell_type": "code",
   "execution_count": 29,
   "metadata": {},
   "outputs": [],
   "source": [
    "kmeans = KMeans(n_clusters=4)"
   ]
  },
  {
   "cell_type": "code",
   "execution_count": 30,
   "metadata": {},
   "outputs": [
    {
     "data": {
      "text/html": [
       "<style>#sk-container-id-2 {color: black;background-color: white;}#sk-container-id-2 pre{padding: 0;}#sk-container-id-2 div.sk-toggleable {background-color: white;}#sk-container-id-2 label.sk-toggleable__label {cursor: pointer;display: block;width: 100%;margin-bottom: 0;padding: 0.3em;box-sizing: border-box;text-align: center;}#sk-container-id-2 label.sk-toggleable__label-arrow:before {content: \"▸\";float: left;margin-right: 0.25em;color: #696969;}#sk-container-id-2 label.sk-toggleable__label-arrow:hover:before {color: black;}#sk-container-id-2 div.sk-estimator:hover label.sk-toggleable__label-arrow:before {color: black;}#sk-container-id-2 div.sk-toggleable__content {max-height: 0;max-width: 0;overflow: hidden;text-align: left;background-color: #f0f8ff;}#sk-container-id-2 div.sk-toggleable__content pre {margin: 0.2em;color: black;border-radius: 0.25em;background-color: #f0f8ff;}#sk-container-id-2 input.sk-toggleable__control:checked~div.sk-toggleable__content {max-height: 200px;max-width: 100%;overflow: auto;}#sk-container-id-2 input.sk-toggleable__control:checked~label.sk-toggleable__label-arrow:before {content: \"▾\";}#sk-container-id-2 div.sk-estimator input.sk-toggleable__control:checked~label.sk-toggleable__label {background-color: #d4ebff;}#sk-container-id-2 div.sk-label input.sk-toggleable__control:checked~label.sk-toggleable__label {background-color: #d4ebff;}#sk-container-id-2 input.sk-hidden--visually {border: 0;clip: rect(1px 1px 1px 1px);clip: rect(1px, 1px, 1px, 1px);height: 1px;margin: -1px;overflow: hidden;padding: 0;position: absolute;width: 1px;}#sk-container-id-2 div.sk-estimator {font-family: monospace;background-color: #f0f8ff;border: 1px dotted black;border-radius: 0.25em;box-sizing: border-box;margin-bottom: 0.5em;}#sk-container-id-2 div.sk-estimator:hover {background-color: #d4ebff;}#sk-container-id-2 div.sk-parallel-item::after {content: \"\";width: 100%;border-bottom: 1px solid gray;flex-grow: 1;}#sk-container-id-2 div.sk-label:hover label.sk-toggleable__label {background-color: #d4ebff;}#sk-container-id-2 div.sk-serial::before {content: \"\";position: absolute;border-left: 1px solid gray;box-sizing: border-box;top: 0;bottom: 0;left: 50%;z-index: 0;}#sk-container-id-2 div.sk-serial {display: flex;flex-direction: column;align-items: center;background-color: white;padding-right: 0.2em;padding-left: 0.2em;position: relative;}#sk-container-id-2 div.sk-item {position: relative;z-index: 1;}#sk-container-id-2 div.sk-parallel {display: flex;align-items: stretch;justify-content: center;background-color: white;position: relative;}#sk-container-id-2 div.sk-item::before, #sk-container-id-2 div.sk-parallel-item::before {content: \"\";position: absolute;border-left: 1px solid gray;box-sizing: border-box;top: 0;bottom: 0;left: 50%;z-index: -1;}#sk-container-id-2 div.sk-parallel-item {display: flex;flex-direction: column;z-index: 1;position: relative;background-color: white;}#sk-container-id-2 div.sk-parallel-item:first-child::after {align-self: flex-end;width: 50%;}#sk-container-id-2 div.sk-parallel-item:last-child::after {align-self: flex-start;width: 50%;}#sk-container-id-2 div.sk-parallel-item:only-child::after {width: 0;}#sk-container-id-2 div.sk-dashed-wrapped {border: 1px dashed gray;margin: 0 0.4em 0.5em 0.4em;box-sizing: border-box;padding-bottom: 0.4em;background-color: white;}#sk-container-id-2 div.sk-label label {font-family: monospace;font-weight: bold;display: inline-block;line-height: 1.2em;}#sk-container-id-2 div.sk-label-container {text-align: center;}#sk-container-id-2 div.sk-container {/* jupyter's `normalize.less` sets `[hidden] { display: none; }` but bootstrap.min.css set `[hidden] { display: none !important; }` so we also need the `!important` here to be able to override the default hidden behavior on the sphinx rendered scikit-learn.org. See: https://github.com/scikit-learn/scikit-learn/issues/21755 */display: inline-block !important;position: relative;}#sk-container-id-2 div.sk-text-repr-fallback {display: none;}</style><div id=\"sk-container-id-2\" class=\"sk-top-container\"><div class=\"sk-text-repr-fallback\"><pre>KMeans(n_clusters=4)</pre><b>In a Jupyter environment, please rerun this cell to show the HTML representation or trust the notebook. <br />On GitHub, the HTML representation is unable to render, please try loading this page with nbviewer.org.</b></div><div class=\"sk-container\" hidden><div class=\"sk-item\"><div class=\"sk-estimator sk-toggleable\"><input class=\"sk-toggleable__control sk-hidden--visually\" id=\"sk-estimator-id-2\" type=\"checkbox\" checked><label for=\"sk-estimator-id-2\" class=\"sk-toggleable__label sk-toggleable__label-arrow\">KMeans</label><div class=\"sk-toggleable__content\"><pre>KMeans(n_clusters=4)</pre></div></div></div></div></div>"
      ],
      "text/plain": [
       "KMeans(n_clusters=4)"
      ]
     },
     "execution_count": 30,
     "metadata": {},
     "output_type": "execute_result"
    }
   ],
   "source": [
    "\n",
    "kmeans.fit(input_data.values)"
   ]
  },
  {
   "cell_type": "code",
   "execution_count": 31,
   "metadata": {},
   "outputs": [
    {
     "name": "stdout",
     "output_type": "stream",
     "text": [
      "[1 1 1 ... 0 0 0]\n"
     ]
    }
   ],
   "source": [
    "predicted_class = kmeans.predict(input_data.values)\n",
    "print(predicted_class)"
   ]
  },
  {
   "cell_type": "code",
   "execution_count": 32,
   "metadata": {},
   "outputs": [],
   "source": [
    "input_data['cluster'] = predicted_class\n"
   ]
  },
  {
   "cell_type": "code",
   "execution_count": 33,
   "metadata": {},
   "outputs": [
    {
     "name": "stdout",
     "output_type": "stream",
     "text": [
      "       joint_effort[0]  joint_effort[1]  joint_effort[2]  joint_effort[3]  \\\n",
      "0             1.996940        -1.809981        -0.371448        -0.335144   \n",
      "1             2.002622        -1.795048        -0.382798        -0.332473   \n",
      "2             2.025647        -1.800871        -0.392379        -0.334696   \n",
      "3             2.027824        -1.807060        -0.391131        -0.335365   \n",
      "4             2.017884        -1.754181        -0.362340        -0.329359   \n",
      "...                ...              ...              ...              ...   \n",
      "23553         2.357594         0.340061        -0.448074         0.030689   \n",
      "23554         2.353554         0.415922        -0.446018         0.044743   \n",
      "23555         2.350633         0.362726        -0.413633         0.036383   \n",
      "23556         2.358639         0.502849        -0.505536         0.064343   \n",
      "23557         2.361622         0.419046        -0.409286         0.045542   \n",
      "\n",
      "       joint_effort[4]  joint_effort[5]  cluster  \n",
      "0            -0.291174         0.228661        1  \n",
      "1            -0.291394         0.225943        1  \n",
      "2            -0.296035         0.224875        1  \n",
      "3            -0.294151         0.225724        1  \n",
      "4            -0.290970         0.227234        1  \n",
      "...                ...              ...      ...  \n",
      "23553        -0.398838        -0.145064        0  \n",
      "23554        -0.398833        -0.144826        0  \n",
      "23555        -0.396554        -0.144736        0  \n",
      "23556        -0.399636        -0.150277        0  \n",
      "23557        -0.397628        -0.147469        0  \n",
      "\n",
      "[23558 rows x 7 columns]\n"
     ]
    }
   ],
   "source": [
    "print(input_data)"
   ]
  },
  {
   "cell_type": "code",
   "execution_count": 23,
   "metadata": {},
   "outputs": [],
   "source": [
    "input_data.to_csv(\"force_rotation_sep8_labeled_k2.csv\")"
   ]
  },
  {
   "cell_type": "code",
   "execution_count": 35,
   "metadata": {},
   "outputs": [
    {
     "name": "stdout",
     "output_type": "stream",
     "text": [
      "[0 0 0 ... 0 0 0]\n"
     ]
    }
   ],
   "source": [
    "input_data1 = pd.read_csv(\"/home/rehan/ws_moveit/src/machine learning/translations/force.csv\", sep=\",\")\n",
    "#kmeans = KMeans(n_clusters=2)\n",
    "#kmeans.fit(input_data1.values)\n",
    "input_data1=input_data.dropna(axis=1, how='any', thresh=None, subset=None, inplace=False)\n",
    "predicted = kmeans.predict(input_data1.values)\n",
    "print(predicted)"
   ]
  },
  {
   "cell_type": "code",
   "execution_count": 37,
   "metadata": {},
   "outputs": [
    {
     "name": "stdout",
     "output_type": "stream",
     "text": [
      "       joint_effort[0]  joint_effort[1]  joint_effort[2]  joint_effort[3]  \\\n",
      "0             1.876725        -0.257566        -0.047946        -0.288197   \n",
      "1             1.857121        -0.256775        -0.048082        -0.289273   \n",
      "2             1.881986        -0.254120        -0.059156        -0.287997   \n",
      "3             1.874046        -0.344921        -0.062330        -0.308906   \n",
      "4             1.895833        -0.222239        -0.080636        -0.284177   \n",
      "...                ...              ...              ...              ...   \n",
      "21855         3.422172        -1.644572        -0.246624        -0.030598   \n",
      "21856         3.445835        -1.658033        -0.340505        -0.033999   \n",
      "21857         3.416307        -1.770720        -0.372586        -0.052106   \n",
      "21858         3.435653        -1.704555        -0.354842        -0.039982   \n",
      "21859         3.417295        -1.733621        -0.193935        -0.050790   \n",
      "\n",
      "       joint_effort[4]  joint_effort[5]  cluster  \n",
      "0            -0.495417         0.065963        0  \n",
      "1            -0.491761         0.067335        0  \n",
      "2            -0.497292         0.066484        0  \n",
      "3            -0.496276         0.069238        0  \n",
      "4            -0.503217         0.069447        0  \n",
      "...                ...              ...      ...  \n",
      "21855        -0.581678         0.168529        0  \n",
      "21856        -0.589987         0.168024        0  \n",
      "21857        -0.587963         0.168435        0  \n",
      "21858        -0.588203         0.167543        0  \n",
      "21859        -0.579954         0.171949        0  \n",
      "\n",
      "[21860 rows x 7 columns]\n"
     ]
    }
   ],
   "source": [
    "input_data1['cluster'] = predicted\n",
    "print(input_data1)"
   ]
  },
  {
   "cell_type": "code",
   "execution_count": 31,
   "metadata": {},
   "outputs": [],
   "source": [
    "input_data1.to_csv(\"/home/rehan/ws_moveit/src/machine learning/results/force_translation_1.csv.csv\")\n"
   ]
  },
  {
   "cell_type": "code",
   "execution_count": 34,
   "metadata": {},
   "outputs": [],
   "source": [
    "import numpy as np # linear algebra\n",
    "import pandas as pd # data processing, CSV file I/O (e.g. pd.read_csv)\n",
    "import random as rd\n",
    "import matplotlib.pyplot as plt\n",
    "from math import sqrt\n",
    "import matplotlib.pyplot as mp\n",
    "import numpy as np\n",
    "from sklearn.pipeline import make_pipeline\n",
    "from sklearn.preprocessing import StandardScaler\n",
    "\n"
   ]
  },
  {
   "cell_type": "code",
   "execution_count": 75,
   "metadata": {},
   "outputs": [
    {
     "data": {
      "text/html": [
       "<div>\n",
       "<style scoped>\n",
       "    .dataframe tbody tr th:only-of-type {\n",
       "        vertical-align: middle;\n",
       "    }\n",
       "\n",
       "    .dataframe tbody tr th {\n",
       "        vertical-align: top;\n",
       "    }\n",
       "\n",
       "    .dataframe thead th {\n",
       "        text-align: right;\n",
       "    }\n",
       "</style>\n",
       "<table border=\"1\" class=\"dataframe\">\n",
       "  <thead>\n",
       "    <tr style=\"text-align: right;\">\n",
       "      <th></th>\n",
       "      <th>joint_effort[0]</th>\n",
       "      <th>joint_effort[1]</th>\n",
       "      <th>joint_effort[2]</th>\n",
       "      <th>joint_effort[3]</th>\n",
       "      <th>joint_effort[4]</th>\n",
       "      <th>joint_effort[5]</th>\n",
       "      <th>joint_effort[6]</th>\n",
       "      <th>cluster</th>\n",
       "    </tr>\n",
       "  </thead>\n",
       "  <tbody>\n",
       "    <tr>\n",
       "      <th>0</th>\n",
       "      <td>0.146015</td>\n",
       "      <td>-0.345171</td>\n",
       "      <td>0.060238</td>\n",
       "      <td>1.057072</td>\n",
       "      <td>-0.024351</td>\n",
       "      <td>0.468591</td>\n",
       "      <td>0.029464</td>\n",
       "      <td>0</td>\n",
       "    </tr>\n",
       "    <tr>\n",
       "      <th>1</th>\n",
       "      <td>0.127741</td>\n",
       "      <td>-0.347952</td>\n",
       "      <td>0.037852</td>\n",
       "      <td>1.058096</td>\n",
       "      <td>-0.026369</td>\n",
       "      <td>0.468277</td>\n",
       "      <td>0.028767</td>\n",
       "      <td>0</td>\n",
       "    </tr>\n",
       "    <tr>\n",
       "      <th>2</th>\n",
       "      <td>0.164548</td>\n",
       "      <td>-0.334746</td>\n",
       "      <td>0.073059</td>\n",
       "      <td>1.033379</td>\n",
       "      <td>-0.024738</td>\n",
       "      <td>0.462316</td>\n",
       "      <td>0.027505</td>\n",
       "      <td>0</td>\n",
       "    </tr>\n",
       "    <tr>\n",
       "      <th>3</th>\n",
       "      <td>0.172493</td>\n",
       "      <td>-0.338099</td>\n",
       "      <td>0.075205</td>\n",
       "      <td>1.042974</td>\n",
       "      <td>-0.024274</td>\n",
       "      <td>0.463160</td>\n",
       "      <td>0.025120</td>\n",
       "      <td>0</td>\n",
       "    </tr>\n",
       "    <tr>\n",
       "      <th>4</th>\n",
       "      <td>0.128463</td>\n",
       "      <td>-0.343617</td>\n",
       "      <td>0.042871</td>\n",
       "      <td>1.058580</td>\n",
       "      <td>-0.025639</td>\n",
       "      <td>0.468418</td>\n",
       "      <td>0.025372</td>\n",
       "      <td>0</td>\n",
       "    </tr>\n",
       "  </tbody>\n",
       "</table>\n",
       "</div>"
      ],
      "text/plain": [
       "   joint_effort[0]  joint_effort[1]  joint_effort[2]  joint_effort[3]  \\\n",
       "0         0.146015        -0.345171         0.060238         1.057072   \n",
       "1         0.127741        -0.347952         0.037852         1.058096   \n",
       "2         0.164548        -0.334746         0.073059         1.033379   \n",
       "3         0.172493        -0.338099         0.075205         1.042974   \n",
       "4         0.128463        -0.343617         0.042871         1.058580   \n",
       "\n",
       "   joint_effort[4]  joint_effort[5]  joint_effort[6]  cluster  \n",
       "0        -0.024351         0.468591         0.029464        0  \n",
       "1        -0.026369         0.468277         0.028767        0  \n",
       "2        -0.024738         0.462316         0.027505        0  \n",
       "3        -0.024274         0.463160         0.025120        0  \n",
       "4        -0.025639         0.468418         0.025372        0  "
      ]
     },
     "execution_count": 75,
     "metadata": {},
     "output_type": "execute_result"
    }
   ],
   "source": [
    "data = pd.read_csv(\"/home/rehan/ws_moveit/src/machine learning/combined/combined_train.csv\")\n",
    "\n",
    "data.head()\n"
   ]
  },
  {
   "cell_type": "code",
   "execution_count": 76,
   "metadata": {},
   "outputs": [
    {
     "data": {
      "text/html": [
       "<div>\n",
       "<style scoped>\n",
       "    .dataframe tbody tr th:only-of-type {\n",
       "        vertical-align: middle;\n",
       "    }\n",
       "\n",
       "    .dataframe tbody tr th {\n",
       "        vertical-align: top;\n",
       "    }\n",
       "\n",
       "    .dataframe thead th {\n",
       "        text-align: right;\n",
       "    }\n",
       "</style>\n",
       "<table border=\"1\" class=\"dataframe\">\n",
       "  <thead>\n",
       "    <tr style=\"text-align: right;\">\n",
       "      <th></th>\n",
       "      <th>joint_effort[0]</th>\n",
       "      <th>joint_effort[1]</th>\n",
       "      <th>joint_effort[2]</th>\n",
       "      <th>joint_effort[3]</th>\n",
       "      <th>joint_effort[4]</th>\n",
       "      <th>joint_effort[5]</th>\n",
       "      <th>joint_effort[6]</th>\n",
       "    </tr>\n",
       "  </thead>\n",
       "  <tbody>\n",
       "    <tr>\n",
       "      <th>0</th>\n",
       "      <td>-0.015909</td>\n",
       "      <td>-0.051101</td>\n",
       "      <td>-0.134213</td>\n",
       "      <td>1.177539</td>\n",
       "      <td>0.107070</td>\n",
       "      <td>0.426092</td>\n",
       "      <td>-0.092935</td>\n",
       "    </tr>\n",
       "    <tr>\n",
       "      <th>1</th>\n",
       "      <td>-0.013123</td>\n",
       "      <td>-0.074854</td>\n",
       "      <td>-0.133023</td>\n",
       "      <td>1.212580</td>\n",
       "      <td>0.107993</td>\n",
       "      <td>0.432952</td>\n",
       "      <td>-0.094747</td>\n",
       "    </tr>\n",
       "    <tr>\n",
       "      <th>2</th>\n",
       "      <td>-0.023585</td>\n",
       "      <td>-0.061250</td>\n",
       "      <td>-0.138058</td>\n",
       "      <td>1.183486</td>\n",
       "      <td>0.106109</td>\n",
       "      <td>0.426131</td>\n",
       "      <td>-0.096289</td>\n",
       "    </tr>\n",
       "    <tr>\n",
       "      <th>3</th>\n",
       "      <td>-0.010430</td>\n",
       "      <td>-0.062535</td>\n",
       "      <td>-0.134967</td>\n",
       "      <td>1.198084</td>\n",
       "      <td>0.105645</td>\n",
       "      <td>0.430897</td>\n",
       "      <td>-0.094587</td>\n",
       "    </tr>\n",
       "    <tr>\n",
       "      <th>4</th>\n",
       "      <td>-0.018656</td>\n",
       "      <td>-0.051011</td>\n",
       "      <td>-0.138731</td>\n",
       "      <td>1.169587</td>\n",
       "      <td>0.106349</td>\n",
       "      <td>0.422105</td>\n",
       "      <td>-0.094436</td>\n",
       "    </tr>\n",
       "  </tbody>\n",
       "</table>\n",
       "</div>"
      ],
      "text/plain": [
       "   joint_effort[0]  joint_effort[1]  joint_effort[2]  joint_effort[3]  \\\n",
       "0        -0.015909        -0.051101        -0.134213         1.177539   \n",
       "1        -0.013123        -0.074854        -0.133023         1.212580   \n",
       "2        -0.023585        -0.061250        -0.138058         1.183486   \n",
       "3        -0.010430        -0.062535        -0.134967         1.198084   \n",
       "4        -0.018656        -0.051011        -0.138731         1.169587   \n",
       "\n",
       "   joint_effort[4]  joint_effort[5]  joint_effort[6]  \n",
       "0         0.107070         0.426092        -0.092935  \n",
       "1         0.107993         0.432952        -0.094747  \n",
       "2         0.106109         0.426131        -0.096289  \n",
       "3         0.105645         0.430897        -0.094587  \n",
       "4         0.106349         0.422105        -0.094436  "
      ]
     },
     "execution_count": 76,
     "metadata": {},
     "output_type": "execute_result"
    }
   ],
   "source": [
    "data_u = pd.read_csv(\"/home/rehan/ws_moveit/src/machine learning/combined/combined_Y-T_Z-R.csv\")\n",
    "data_u.head()\n"
   ]
  },
  {
   "cell_type": "code",
   "execution_count": 23,
   "metadata": {},
   "outputs": [
    {
     "name": "stdout",
     "output_type": "stream",
     "text": [
      "(18175, 7)\n",
      "(18175, 1)\n",
      "(4544, 7)\n",
      "(4544, 1)\n"
     ]
    }
   ],
   "source": [
    "#df.iloc[row_start:row_end , col_start, col_end]\n",
    "\n",
    "from sklearn.model_selection import train_test_split\n",
    "\n",
    "\n",
    "\n",
    "df = pd.DataFrame(input_data)\n",
    "x= df.iloc[: , :-1]\n",
    "X=x.to_numpy()\n",
    "\n",
    "y= df.iloc[: ,7 :9]\n",
    "Y=y.to_numpy()\n",
    "#print(y)\n",
    "#Y=Y.reshape(1,9087)\n",
    "X_train, X_test, y_train, y_test = train_test_split(X, Y, test_size=0.2, random_state=42)\n",
    "print(X_train.shape)\n",
    "print(y_train.shape)\n",
    "print(X_test.shape)\n",
    "print(y_test.shape)\n"
   ]
  },
  {
   "cell_type": "code",
   "execution_count": 26,
   "metadata": {},
   "outputs": [
    {
     "ename": "NameError",
     "evalue": "name 'make_pipeline' is not defined",
     "output_type": "error",
     "traceback": [
      "\u001b[0;31m---------------------------------------------------------------------------\u001b[0m",
      "\u001b[0;31mNameError\u001b[0m                                 Traceback (most recent call last)",
      "\u001b[1;32m/home/rehan/cluster.ipynb Cell 17\u001b[0m in \u001b[0;36m<cell line: 2>\u001b[0;34m()\u001b[0m\n\u001b[1;32m      <a href='vscode-notebook-cell:/home/rehan/cluster.ipynb#ch0000016?line=0'>1</a>\u001b[0m \u001b[39mfrom\u001b[39;00m \u001b[39msklearn\u001b[39;00m\u001b[39m.\u001b[39;00m\u001b[39msvm\u001b[39;00m \u001b[39mimport\u001b[39;00m SVC\n\u001b[0;32m----> <a href='vscode-notebook-cell:/home/rehan/cluster.ipynb#ch0000016?line=1'>2</a>\u001b[0m clf \u001b[39m=\u001b[39m make_pipeline(StandardScaler(), SVC(gamma\u001b[39m=\u001b[39m\u001b[39m'\u001b[39m\u001b[39mauto\u001b[39m\u001b[39m'\u001b[39m))\n\u001b[1;32m      <a href='vscode-notebook-cell:/home/rehan/cluster.ipynb#ch0000016?line=2'>3</a>\u001b[0m clf\u001b[39m.\u001b[39mfit(X_train, y_train)\n",
      "\u001b[0;31mNameError\u001b[0m: name 'make_pipeline' is not defined"
     ]
    }
   ],
   "source": [
    "\n",
    "from sklearn.svm import SVC\n",
    "clf = make_pipeline(StandardScaler(), SVC(gamma='auto'))\n",
    "clf.fit(X_train, y_train)\n"
   ]
  },
  {
   "cell_type": "code",
   "execution_count": 27,
   "metadata": {},
   "outputs": [
    {
     "name": "stdout",
     "output_type": "stream",
     "text": [
      "(4544,)\n",
      "(4544,)\n"
     ]
    },
    {
     "data": {
      "text/plain": [
       "1.0"
      ]
     },
     "execution_count": 27,
     "metadata": {},
     "output_type": "execute_result"
    }
   ],
   "source": [
    "y_predicted=kmeans.predict(X_test)\n",
    "print(y_predicted.shape)\n",
    "\n",
    "from sklearn.metrics import accuracy_score\n",
    "y_test = y_test.flatten('F')\n",
    "print(y_test.shape)\n",
    "accuracy_score(y_test, y_predicted)"
   ]
  },
  {
   "cell_type": "code",
   "execution_count": 29,
   "metadata": {},
   "outputs": [],
   "source": [
    "df['predicted']=kmeans.predict(X)\n",
    "df.head()\n",
    "df.to_csv(\"/home/rehan/ws_moveit/src/machine learning/results/spaced_labeled_results.csv\")"
   ]
  },
  {
   "cell_type": "code",
   "execution_count": null,
   "metadata": {},
   "outputs": [],
   "source": []
  },
  {
   "cell_type": "code",
   "execution_count": 73,
   "metadata": {},
   "outputs": [
    {
     "data": {
      "text/html": [
       "<div>\n",
       "<style scoped>\n",
       "    .dataframe tbody tr th:only-of-type {\n",
       "        vertical-align: middle;\n",
       "    }\n",
       "\n",
       "    .dataframe tbody tr th {\n",
       "        vertical-align: top;\n",
       "    }\n",
       "\n",
       "    .dataframe thead th {\n",
       "        text-align: right;\n",
       "    }\n",
       "</style>\n",
       "<table border=\"1\" class=\"dataframe\">\n",
       "  <thead>\n",
       "    <tr style=\"text-align: right;\">\n",
       "      <th></th>\n",
       "      <th>joint_effort[0]</th>\n",
       "      <th>joint_effort[1]</th>\n",
       "      <th>joint_effort[2]</th>\n",
       "      <th>joint_effort[3]</th>\n",
       "      <th>joint_effort[4]</th>\n",
       "      <th>joint_effort[5]</th>\n",
       "      <th>joint_effort[6]</th>\n",
       "    </tr>\n",
       "  </thead>\n",
       "  <tbody>\n",
       "    <tr>\n",
       "      <th>0</th>\n",
       "      <td>-0.015909</td>\n",
       "      <td>-0.051101</td>\n",
       "      <td>-0.134213</td>\n",
       "      <td>1.177539</td>\n",
       "      <td>0.107070</td>\n",
       "      <td>0.426092</td>\n",
       "      <td>-0.092935</td>\n",
       "    </tr>\n",
       "    <tr>\n",
       "      <th>1</th>\n",
       "      <td>-0.013123</td>\n",
       "      <td>-0.074854</td>\n",
       "      <td>-0.133023</td>\n",
       "      <td>1.212580</td>\n",
       "      <td>0.107993</td>\n",
       "      <td>0.432952</td>\n",
       "      <td>-0.094747</td>\n",
       "    </tr>\n",
       "    <tr>\n",
       "      <th>2</th>\n",
       "      <td>-0.023585</td>\n",
       "      <td>-0.061250</td>\n",
       "      <td>-0.138058</td>\n",
       "      <td>1.183486</td>\n",
       "      <td>0.106109</td>\n",
       "      <td>0.426131</td>\n",
       "      <td>-0.096289</td>\n",
       "    </tr>\n",
       "    <tr>\n",
       "      <th>3</th>\n",
       "      <td>-0.010430</td>\n",
       "      <td>-0.062535</td>\n",
       "      <td>-0.134967</td>\n",
       "      <td>1.198084</td>\n",
       "      <td>0.105645</td>\n",
       "      <td>0.430897</td>\n",
       "      <td>-0.094587</td>\n",
       "    </tr>\n",
       "    <tr>\n",
       "      <th>4</th>\n",
       "      <td>-0.018656</td>\n",
       "      <td>-0.051011</td>\n",
       "      <td>-0.138731</td>\n",
       "      <td>1.169587</td>\n",
       "      <td>0.106349</td>\n",
       "      <td>0.422105</td>\n",
       "      <td>-0.094436</td>\n",
       "    </tr>\n",
       "  </tbody>\n",
       "</table>\n",
       "</div>"
      ],
      "text/plain": [
       "   joint_effort[0]  joint_effort[1]  joint_effort[2]  joint_effort[3]  \\\n",
       "0        -0.015909        -0.051101        -0.134213         1.177539   \n",
       "1        -0.013123        -0.074854        -0.133023         1.212580   \n",
       "2        -0.023585        -0.061250        -0.138058         1.183486   \n",
       "3        -0.010430        -0.062535        -0.134967         1.198084   \n",
       "4        -0.018656        -0.051011        -0.138731         1.169587   \n",
       "\n",
       "   joint_effort[4]  joint_effort[5]  joint_effort[6]  \n",
       "0         0.107070         0.426092        -0.092935  \n",
       "1         0.107993         0.432952        -0.094747  \n",
       "2         0.106109         0.426131        -0.096289  \n",
       "3         0.105645         0.430897        -0.094587  \n",
       "4         0.106349         0.422105        -0.094436  "
      ]
     },
     "execution_count": 73,
     "metadata": {},
     "output_type": "execute_result"
    }
   ],
   "source": [
    "df_u = pd.DataFrame(data_u)\n",
    "df_u.head()"
   ]
  },
  {
   "cell_type": "code",
   "execution_count": 78,
   "metadata": {},
   "outputs": [
    {
     "name": "stdout",
     "output_type": "stream",
     "text": [
      "(3049,)\n"
     ]
    },
    {
     "name": "stderr",
     "output_type": "stream",
     "text": [
      "/home/rehan/anaconda3/lib/python3.9/site-packages/sklearn/base.py:443: UserWarning: X has feature names, but StandardScaler was fitted without feature names\n",
      "  warnings.warn(\n"
     ]
    }
   ],
   "source": [
    "#x1= df.iloc[: , :-1]\n",
    "#X1=x.to_numpy()\n",
    "y_predicted1=clf.predict(df_u)\n",
    "print(y_predicted1.shape)"
   ]
  },
  {
   "cell_type": "code",
   "execution_count": 80,
   "metadata": {},
   "outputs": [],
   "source": [
    "df_u['predicted']=y_predicted1\n",
    "df.head()\n",
    "df_u.to_csv(\"/home/rehan/ws_moveit/src/machine learning/results/combined_labeled_results_untrained.csv\")"
   ]
  }
 ],
 "metadata": {
  "kernelspec": {
   "display_name": "Python 3.8.10 64-bit",
   "language": "python",
   "name": "python3"
  },
  "language_info": {
   "codemirror_mode": {
    "name": "ipython",
    "version": 3
   },
   "file_extension": ".py",
   "mimetype": "text/x-python",
   "name": "python",
   "nbconvert_exporter": "python",
   "pygments_lexer": "ipython3",
   "version": "3.8.10"
  },
  "orig_nbformat": 4,
  "vscode": {
   "interpreter": {
    "hash": "e7370f93d1d0cde622a1f8e1c04877d8463912d04d973331ad4851f04de6915a"
   }
  }
 },
 "nbformat": 4,
 "nbformat_minor": 2
}
