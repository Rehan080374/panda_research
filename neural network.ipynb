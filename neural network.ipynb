{
 "cells": [
  {
   "cell_type": "code",
   "execution_count": 118,
   "metadata": {},
   "outputs": [],
   "source": [
    "import numpy as np\n",
    "import pandas as pd\n",
    "import seaborn as sns\n",
    "import matplotlib.pyplot as plt\n",
    "import os\n",
    "import time\n",
    "import torch\n",
    "import torch.nn as nn\n",
    "import torch.optim as optim\n",
    "from torch.utils.data import Dataset, DataLoader\n",
    "from torch.utils.data import TensorDataset, DataLoader\n",
    "from sklearn.preprocessing import MinMaxScaler  \n",
    "from sklearn.model_selection import train_test_split\n",
    "from sklearn.metrics import confusion_matrix, classification_report, accuracy_score, f1_score"
   ]
  },
  {
   "cell_type": "code",
   "execution_count": null,
   "metadata": {},
   "outputs": [],
   "source": []
  },
  {
   "cell_type": "code",
   "execution_count": 119,
   "metadata": {},
   "outputs": [
    {
     "data": {
      "text/html": [
       "<div>\n",
       "<style scoped>\n",
       "    .dataframe tbody tr th:only-of-type {\n",
       "        vertical-align: middle;\n",
       "    }\n",
       "\n",
       "    .dataframe tbody tr th {\n",
       "        vertical-align: top;\n",
       "    }\n",
       "\n",
       "    .dataframe thead th {\n",
       "        text-align: right;\n",
       "    }\n",
       "</style>\n",
       "<table border=\"1\" class=\"dataframe\">\n",
       "  <thead>\n",
       "    <tr style=\"text-align: right;\">\n",
       "      <th></th>\n",
       "      <th>samples</th>\n",
       "      <th>joint_effort[0]</th>\n",
       "      <th>joint_effort[1]</th>\n",
       "      <th>joint_effort[2]</th>\n",
       "      <th>joint_effort[3]</th>\n",
       "      <th>joint_effort[4]</th>\n",
       "      <th>joint_effort[5]</th>\n",
       "      <th>cluster</th>\n",
       "    </tr>\n",
       "  </thead>\n",
       "  <tbody>\n",
       "    <tr>\n",
       "      <th>0</th>\n",
       "      <td>0</td>\n",
       "      <td>1.050352</td>\n",
       "      <td>0.036084</td>\n",
       "      <td>0.153670</td>\n",
       "      <td>-0.208722</td>\n",
       "      <td>-0.226335</td>\n",
       "      <td>0.071900</td>\n",
       "      <td>0</td>\n",
       "    </tr>\n",
       "    <tr>\n",
       "      <th>1</th>\n",
       "      <td>1</td>\n",
       "      <td>1.040706</td>\n",
       "      <td>0.052485</td>\n",
       "      <td>0.160204</td>\n",
       "      <td>-0.204533</td>\n",
       "      <td>-0.222889</td>\n",
       "      <td>0.070273</td>\n",
       "      <td>0</td>\n",
       "    </tr>\n",
       "    <tr>\n",
       "      <th>2</th>\n",
       "      <td>2</td>\n",
       "      <td>1.070528</td>\n",
       "      <td>0.033901</td>\n",
       "      <td>0.198342</td>\n",
       "      <td>-0.208156</td>\n",
       "      <td>-0.228432</td>\n",
       "      <td>0.070408</td>\n",
       "      <td>0</td>\n",
       "    </tr>\n",
       "    <tr>\n",
       "      <th>3</th>\n",
       "      <td>3</td>\n",
       "      <td>1.078726</td>\n",
       "      <td>0.032952</td>\n",
       "      <td>0.203791</td>\n",
       "      <td>-0.208763</td>\n",
       "      <td>-0.228608</td>\n",
       "      <td>0.071877</td>\n",
       "      <td>0</td>\n",
       "    </tr>\n",
       "    <tr>\n",
       "      <th>4</th>\n",
       "      <td>4</td>\n",
       "      <td>1.046257</td>\n",
       "      <td>0.048101</td>\n",
       "      <td>0.215115</td>\n",
       "      <td>-0.205263</td>\n",
       "      <td>-0.223011</td>\n",
       "      <td>0.071184</td>\n",
       "      <td>0</td>\n",
       "    </tr>\n",
       "  </tbody>\n",
       "</table>\n",
       "</div>"
      ],
      "text/plain": [
       "   samples  joint_effort[0]  joint_effort[1]  joint_effort[2]  \\\n",
       "0        0         1.050352         0.036084         0.153670   \n",
       "1        1         1.040706         0.052485         0.160204   \n",
       "2        2         1.070528         0.033901         0.198342   \n",
       "3        3         1.078726         0.032952         0.203791   \n",
       "4        4         1.046257         0.048101         0.215115   \n",
       "\n",
       "   joint_effort[3]  joint_effort[4]  joint_effort[5]  cluster  \n",
       "0        -0.208722        -0.226335         0.071900        0  \n",
       "1        -0.204533        -0.222889         0.070273        0  \n",
       "2        -0.208156        -0.228432         0.070408        0  \n",
       "3        -0.208763        -0.228608         0.071877        0  \n",
       "4        -0.205263        -0.223011         0.071184        0  "
      ]
     },
     "execution_count": 119,
     "metadata": {},
     "output_type": "execute_result"
    }
   ],
   "source": [
    "# Store csv file in a Pandas DataFrame\n",
    "df = pd.read_csv('combined_labled_k6.csv')\n",
    "df.head()"
   ]
  },
  {
   "cell_type": "code",
   "execution_count": 120,
   "metadata": {},
   "outputs": [
    {
     "name": "stdout",
     "output_type": "stream",
     "text": [
      "   base_line  rotation  translation\n",
      "0          1         0            0\n",
      "1          1         0            0\n",
      "2          1         0            0\n",
      "3          1         0            0\n",
      "4          1         0            0\n"
     ]
    }
   ],
   "source": [
    "y = pd.get_dummies(df.cluster, prefix='base')\n",
    "y.rename(columns = {'base_0':'base_line', 'base_1':'rotation', 'base_2':'translation'}, inplace = True)\n",
    "print(y.head())"
   ]
  },
  {
   "cell_type": "markdown",
   "metadata": {},
   "source": []
  },
  {
   "cell_type": "code",
   "execution_count": 148,
   "metadata": {},
   "outputs": [
    {
     "data": {
      "text/plain": [
       "<matplotlib.axes._subplots.AxesSubplot at 0x7f0915385280>"
      ]
     },
     "execution_count": 148,
     "metadata": {},
     "output_type": "execute_result"
    },
    {
     "data": {
      "image/png": "[encoded data removed]",
      "text/plain": [
       "<Figure size 640x480 with 1 Axes>"
      ]
     },
     "metadata": {},
     "output_type": "display_data"
    }
   ],
   "source": [
    "sns.countplot( x='cluster', data=df)"
   ]
  },
  {
   "cell_type": "code",
   "execution_count": 122,
   "metadata": {},
   "outputs": [
    {
     "name": "stdout",
     "output_type": "stream",
     "text": [
      "[[1 0 0]\n",
      " [1 0 0]\n",
      " [1 0 0]\n",
      " ...\n",
      " [1 0 0]\n",
      " [1 0 0]\n",
      " [1 0 0]]\n"
     ]
    }
   ],
   "source": [
    "y= np.array(y)\n",
    "print(y)"
   ]
  },
  {
   "cell_type": "code",
   "execution_count": 123,
   "metadata": {},
   "outputs": [
    {
     "name": "stdout",
     "output_type": "stream",
     "text": [
      "[[ 1.05035197  0.03608361  0.15366994 -0.20872176 -0.22633529  0.07190013]\n",
      " [ 1.04070593  0.05248472  0.16020391 -0.20453307 -0.22288895  0.07027318]\n",
      " [ 1.07052848  0.03390063  0.19834174 -0.20815593 -0.22843161  0.07040757]\n",
      " ...\n",
      " [ 2.18775072  0.72399379 -0.04694298 -0.1240152  -0.3555519  -0.3742596 ]\n",
      " [ 2.17323085  0.76483473 -0.16630029 -0.11638658 -0.3595942  -0.37862044]\n",
      " [ 2.21371423  0.70888995 -0.01968097 -0.12413878 -0.36091259 -0.37732746]]\n"
     ]
    }
   ],
   "source": [
    "X = df.iloc[:, 1:-1]\n",
    "\n",
    "X=np.array(X)\n",
    "print(X)"
   ]
  },
  {
   "cell_type": "code",
   "execution_count": 124,
   "metadata": {},
   "outputs": [
    {
     "data": {
      "text/plain": [
       "array([[1, 0, 0],\n",
       "       [1, 0, 0],\n",
       "       [1, 0, 0],\n",
       "       ...,\n",
       "       [1, 0, 0],\n",
       "       [1, 0, 0],\n",
       "       [1, 0, 0]], dtype=uint8)"
      ]
     },
     "execution_count": 124,
     "metadata": {},
     "output_type": "execute_result"
    }
   ],
   "source": [
    "\n",
    "y"
   ]
  },
  {
   "cell_type": "code",
   "execution_count": 125,
   "metadata": {},
   "outputs": [],
   "source": [
    "X_tr, X_te, y_tr, y_te = train_test_split(X, y, test_size=0.2, random_state=None,shuffle=False)"
   ]
  },
  {
   "cell_type": "code",
   "execution_count": 126,
   "metadata": {},
   "outputs": [
    {
     "name": "stdout",
     "output_type": "stream",
     "text": [
      "(35838, 6)\n"
     ]
    }
   ],
   "source": [
    "scaler = MinMaxScaler()\n",
    "X1= scaler.fit_transform(X)\n",
    "x1 = scaler.transform(X1)\n",
    "\n",
    "print(X1.shape)\n",
    "\n",
    "\n"
   ]
  },
  {
   "cell_type": "code",
   "execution_count": 127,
   "metadata": {},
   "outputs": [
    {
     "name": "stdout",
     "output_type": "stream",
     "text": [
      "(35838, 3)\n",
      "[1 0 0]\n"
     ]
    }
   ],
   "source": [
    "# sc = MinMaxScaler()\n",
    "\n",
    "# y1= sc.fit_transform(y.reshape(-1,1))\n",
    "# #y1 = sc.transform(y1)\n",
    "\n",
    "\n",
    "print(y.shape)\n",
    "print(y[3])"
   ]
  },
  {
   "cell_type": "code",
   "execution_count": 128,
   "metadata": {},
   "outputs": [
    {
     "name": "stdout",
     "output_type": "stream",
     "text": [
      "[[0.31531986 0.62765369 0.75464588 0.45017587 0.63641474 0.64530948]\n",
      " [0.31253532 0.62962466 0.75810344 0.45373317 0.64053097 0.64348093]\n",
      " [0.32114426 0.62739136 0.77828475 0.45065642 0.63391094 0.64363198]\n",
      " ...\n",
      " [0.64365528 0.71032188 0.64848798 0.52211411 0.48208143 0.1438633 ]\n",
      " [0.6394638  0.71522986 0.58532794 0.52859282 0.47725339 0.13896208]\n",
      " [0.65115023 0.70850681 0.66291416 0.52200916 0.47567873 0.14041528]]\n"
     ]
    }
   ],
   "source": [
    "print(X1)"
   ]
  },
  {
   "cell_type": "code",
   "execution_count": 129,
   "metadata": {},
   "outputs": [],
   "source": [
    "## train dataclass TrainData(Dataset):\n",
    "#from http.client import _DataType\n",
    "\n",
    "\n",
    "class TrainData(Dataset):   \n",
    "    def __init__(self, X_data, y_data):\n",
    "        self.X_data = X_data\n",
    "        self.y_data = y_data\n",
    "        self.window=5\n",
    "        \n",
    "    def __getitem__(self, index):\n",
    "        if index>= self.length-self.window:\n",
    "            X=self.X_data[index:index+self.window,]\n",
    "            Y=self.y_data[index,]\n",
    "        else:\n",
    "            X=self.X_data[index:index+self.window,]  \n",
    "            Y=self.y_data[index+self.window,]\n",
    "        \n",
    "        return X,Y\n",
    "        \n",
    "    def __len__ (self):\n",
    "        Q = len(self.X_data)\n",
    "        self.length=Q-self.window+1\n",
    "        return self.length\n",
    "\n",
    "# train_data = TrainData(torch.FloatTensor(X_train), \n",
    "#                        torch.FloatTensor(y_train))\n",
    "\n",
    "## test data  \n",
    "# class TestData(Dataset):\n",
    "    \n",
    "#     def __init__(self, X_data,y_data):\n",
    "#         self.X_data = X_data\n",
    "#         self.y_data = y_data\n",
    "#         self.window=5\n",
    "#     def __getitem__(self, index):\n",
    "#         if index>= self.length-self.window:\n",
    "#             X=self.X_data[index:index+self.window]\n",
    "#             Y=self.y_data[index,]\n",
    "\n",
    "#         else:\n",
    "#             X=self.X_data[index:index+self.window]  \n",
    "#             Y=self.y_data[index+self.window,]\n",
    "        \n",
    "#         return X,Y\n",
    "#     def __len__ (self):\n",
    "#         Q = len(self.X_data)\n",
    "#         self.length=Q-self.window+1\n",
    "#         return self.length\n",
    "    \n",
    "\n",
    "#test_data = TrainData(torch.FloatTensor(X_test),torch.FloatTensor(y_test))                      "
   ]
  },
  {
   "cell_type": "code",
   "execution_count": 130,
   "metadata": {},
   "outputs": [
    {
     "name": "stdout",
     "output_type": "stream",
     "text": [
      "torch.Size([25, 5, 6])\n",
      "torch.Size([25, 3])\n",
      "<class 'torch.Tensor'>\n",
      "<class 'torch.Tensor'>\n",
      "torch.Size([25, 5, 6])\n",
      "torch.Size([25, 3])\n",
      "<class 'torch.Tensor'>\n",
      "<class 'torch.Tensor'>\n"
     ]
    }
   ],
   "source": [
    "cs=TrainData(torch.FloatTensor(X1),torch.FloatTensor(y))\n",
    "train_l=round(int(cs.__len__())*0.8)\n",
    "\n",
    "batch_size=25\n",
    "val_l=int(cs.__len__())-train_l\n",
    "\n",
    "train_set, val_set = torch.utils.data.random_split(cs, [train_l, val_l])\n",
    "\n",
    "train_loader = DataLoader(train_set, shuffle=True, batch_size=batch_size, drop_last=True)\n",
    "\n",
    "\n",
    "for each_x, each_y in train_loader:\n",
    "    print(each_x.shape)\n",
    "    print(each_y.shape)\n",
    "    print(type(each_x))\n",
    "    print(type(each_y))\n",
    "    break\n",
    "    \n",
    "    \n",
    "val_loader = DataLoader(val_set, shuffle=True, batch_size=batch_size, drop_last=True)\n",
    "for each_x, each_y in val_loader:\n",
    "    print(each_x.shape)\n",
    "    print(each_y.shape)\n",
    "    print(type(each_x))\n",
    "    print(type(each_y))\n",
    "    break"
   ]
  },
  {
   "cell_type": "code",
   "execution_count": 131,
   "metadata": {},
   "outputs": [],
   "source": [
    "\n",
    "\n",
    "\n",
    "# batch_size=25\n",
    "\n",
    "# train_loader = DataLoader(dataset=train_data, shuffle=True, batch_size=batch_size, drop_last=True)\n",
    "\n",
    "\n",
    "# val_loader = DataLoader(dataset=test_data, shuffle=True, batch_size=batch_size, drop_last=True)\n",
    "# print(next(iter(train_loader))[0].shape[0])\n",
    "# #print(train_loader.batch_size)\n",
    "# for each_x, each_y in train_loader:\n",
    "#     print(each_x.shape)\n",
    "#     print(each_y.shape)\n",
    "#     break\n",
    "    \n",
    "    \n",
    "\n",
    "# for each_x,each_y in val_loader:\n",
    "#     print(each_x.shape)\n",
    "#     print(each_y.shape)\n",
    "#     break"
   ]
  },
  {
   "cell_type": "code",
   "execution_count": 132,
   "metadata": {},
   "outputs": [],
   "source": [
    "# torch.cuda.is_available() checks and returns a Boolean True if a GPU is available, else it'll return False\n",
    "is_cuda = torch.cuda.is_available()\n",
    "\n",
    "# If we have a GPU available, we'll set our device to GPU. We'll use this device variable later in our code.\n",
    "if is_cuda:\n",
    "    device = torch.device(\"cuda\")\n",
    "else:\n",
    "    device = torch.device(\"cpu\")"
   ]
  },
  {
   "cell_type": "code",
   "execution_count": 133,
   "metadata": {},
   "outputs": [],
   "source": [
    "class GRUNet(nn.Module):\n",
    "    def __init__(self, input_dim, hidden_dim, output_dim, n_layers, drop_prob=0.2):\n",
    "        super(GRUNet, self).__init__()\n",
    "        self.hidden_dim = hidden_dim\n",
    "        self.n_layers = n_layers\n",
    "        \n",
    "        self.gru = nn.GRU(input_dim, hidden_dim, n_layers, batch_first=True, dropout=drop_prob)\n",
    "        self.fc = nn.Linear(hidden_dim, output_dim)\n",
    "        self.relu = nn.ReLU()\n",
    "        \n",
    "    def forward(self, x, h):\n",
    "        #print(x,h)\n",
    "        out, h = self.gru(x, h)\n",
    "        out = self.fc(self.relu(out[:,-1]))\n",
    "        return out, h\n",
    "    \n",
    "    def init_hidden(self, batch_size):\n",
    "        weight = next(self.parameters()).data\n",
    "        hidden = weight.new(self.n_layers, batch_size, self.hidden_dim).zero_().to(device)\n",
    "        return hidden\n",
    "class LSTMNet(nn.Module):\n",
    "    def __init__(self, input_dim, hidden_dim, output_dim, n_layers, drop_prob=0.2):\n",
    "        super(LSTMNet, self).__init__()\n",
    "        self.hidden_dim = hidden_dim\n",
    "        self.n_layers = n_layers\n",
    "        \n",
    "        self.lstm = nn.LSTM(input_dim, hidden_dim, n_layers, batch_first=True, dropout=drop_prob)\n",
    "        self.fc = nn.Linear(hidden_dim, output_dim)\n",
    "        self.relu = nn.ReLU()\n",
    "        \n",
    "    def forward(self, x, h):\n",
    "        out, h = self.lstm(x, h)\n",
    "        out = self.fc(self.relu(out[:,-1]))\n",
    "        return out, h\n",
    "    \n",
    "    def init_hidden(self, batch_size):\n",
    "        weight = next(self.parameters()).data\n",
    "        hidden = (weight.new(self.n_layers, batch_size, self.hidden_dim).zero_().to(device),\n",
    "                  weight.new(self.n_layers, batch_size, self.hidden_dim).zero_().to(device))\n",
    "        return hidden"
   ]
  },
  {
   "cell_type": "code",
   "execution_count": 134,
   "metadata": {},
   "outputs": [],
   "source": [
    "\n",
    "def train(train_loader, learn_rate, hidden_dim=256, EPOCHS=5, model_type=\"GRU\"):\n",
    "    print(next(iter(train_loader))[0].shape[2])\n",
    "    # Setting common hyperparameters\n",
    "    input_dim = next(iter(train_loader))[0].shape[2]\n",
    "    output_dim = 3\n",
    "    n_layers = 2\n",
    "    # Instantiating the models\n",
    "    if model_type == \"GRU\":\n",
    "        model = GRUNet(input_dim, hidden_dim, output_dim, n_layers)\n",
    "    else:\n",
    "        model = LSTMNet(input_dim, hidden_dim, output_dim, n_layers)\n",
    "    model.to(device)\n",
    "    \n",
    "    # Defining loss function and optimizer\n",
    "    criterion = nn.MSELoss()\n",
    "    optimizer = torch.optim.Adam(model.parameters(), lr=learn_rate)\n",
    "    \n",
    "    model.train()\n",
    "    print(\"Starting Training of {} model\".format(model_type))\n",
    "    epoch_times = []\n",
    "    # Start training loop\n",
    "    for epoch in range(1,EPOCHS+1):\n",
    "        start_time = time.time()\n",
    "        h = model.init_hidden(batch_size)\n",
    "        avg_loss = 0.\n",
    "        counter = 0\n",
    "        for x, label in train_loader:\n",
    "            counter += 1\n",
    "            if model_type == \"GRU\":\n",
    "                h = h.data\n",
    "            else:\n",
    "                h = tuple([e.data for e in h])\n",
    "            model.zero_grad()\n",
    "            \n",
    "            out, h = model(x.to(device), h)\n",
    "            loss = criterion(out, label.to(device))\n",
    "            loss.backward()\n",
    "            optimizer.step()\n",
    "            avg_loss += loss.item()\n",
    "            if counter%200 == 0:\n",
    "                print(\"Epoch {}......Step: {}/{}....... Average Loss for Epoch: {}\".format(epoch, counter, len(train_loader), avg_loss/counter))\n",
    "        current_time = time.time()\n",
    "        print(\"Epoch {}/{} Done, Total Loss: {}\".format(epoch, EPOCHS, avg_loss/len(train_loader)))\n",
    "        print(\"Total Time Elapsed: {} seconds\".format(str(current_time-start_time)))\n",
    "        epoch_times.append(current_time-start_time)\n",
    "    print(\"Total Training Time: {} seconds\".format(str(sum(epoch_times))))\n",
    "    return model\n"
   ]
  },
  {
   "cell_type": "code",
   "execution_count": null,
   "metadata": {},
   "outputs": [],
   "source": []
  },
  {
   "cell_type": "code",
   "execution_count": 146,
   "metadata": {},
   "outputs": [],
   "source": [
    "def evaluate(model, val_loader, label_scalers):\n",
    "    model.eval()\n",
    "    outputs = []\n",
    "    targets = []\n",
    "    start_time = time.time()\n",
    "    for each_x,each_y in val_loader:\n",
    "        inp = (each_x.to(device))\n",
    "        labs = (each_y.to(device))\n",
    "        h = model.init_hidden(inp.shape[0])\n",
    "        # print(inp.size)\n",
    "        out, h = model(inp, h)\n",
    "        outputs.extend(np.argmax(out.cpu().detach().numpy(), axis=-1))#.reshape(1, -1)[0])\n",
    "        targets.extend(np.argmax(each_y.cpu().numpy(), axis=-1))#.reshape(1, -1)[0])\n",
    "    # print(\"Evaluation Time: {}\".format(str(time.time()-start_time)))\n",
    "    # acc_score = accuracy_score(targets, outputs)\n",
    "    # model_f1_score = f1_score(targets, outputs, average='weighted')\n",
    "    # print(f\"The accuracy of the model is {acc_score*100}%, F1 score is {model_f1_score*100}%\")\n",
    "    new_targets = []\n",
    "    new_outputs = []\n",
    "    for i, _ in enumerate(outputs):\n",
    "        tar = targets[i]\n",
    "        ou = outputs[i]\n",
    "        if tar == 0 and ou == 0:\n",
    "            pass\n",
    "        else:\n",
    "            new_targets.append(tar)\n",
    "            new_outputs.append(ou)\n",
    "    acc_score = accuracy_score(new_targets, new_outputs)\n",
    "    print(f\"The accuracy of the model is {acc_score*100}%\")\n",
    "    return outputs, targets\n"
   ]
  },
  {
   "cell_type": "code",
   "execution_count": 136,
   "metadata": {},
   "outputs": [
    {
     "name": "stdout",
     "output_type": "stream",
     "text": [
      "6\n",
      "Starting Training of GRU model\n",
      "Epoch 1......Step: 200/1146....... Average Loss for Epoch: 0.07236240139638539\n",
      "Epoch 1......Step: 400/1146....... Average Loss for Epoch: 0.066704537437181\n",
      "Epoch 1......Step: 600/1146....... Average Loss for Epoch: 0.06663495687108177\n",
      "Epoch 1......Step: 800/1146....... Average Loss for Epoch: 0.06500485771655803\n",
      "Epoch 1......Step: 1000/1146....... Average Loss for Epoch: 0.06412448514404241\n",
      "Epoch 1/5 Done, Total Loss: 0.06384821660582213\n",
      "Total Time Elapsed: 2.438037872314453 seconds\n",
      "Epoch 2......Step: 200/1146....... Average Loss for Epoch: 0.058862422780366616\n",
      "Epoch 2......Step: 400/1146....... Average Loss for Epoch: 0.0521400178829208\n",
      "Epoch 2......Step: 600/1146....... Average Loss for Epoch: 0.04972007465956267\n",
      "Epoch 2......Step: 800/1146....... Average Loss for Epoch: 0.04778046348510543\n",
      "Epoch 2......Step: 1000/1146....... Average Loss for Epoch: 0.04550858311215416\n",
      "Epoch 2/5 Done, Total Loss: 0.04471194209635784\n",
      "Total Time Elapsed: 2.4347808361053467 seconds\n",
      "Epoch 3......Step: 200/1146....... Average Loss for Epoch: 0.03433130032208283\n",
      "Epoch 3......Step: 400/1146....... Average Loss for Epoch: 0.032397732675017325\n",
      "Epoch 3......Step: 600/1146....... Average Loss for Epoch: 0.03119749000237789\n",
      "Epoch 3......Step: 800/1146....... Average Loss for Epoch: 0.03011374606881873\n",
      "Epoch 3......Step: 1000/1146....... Average Loss for Epoch: 0.028683371869730762\n",
      "Epoch 3/5 Done, Total Loss: 0.028834933532994357\n",
      "Total Time Elapsed: 2.4448111057281494 seconds\n",
      "Epoch 4......Step: 200/1146....... Average Loss for Epoch: 0.025941098000621422\n",
      "Epoch 4......Step: 400/1146....... Average Loss for Epoch: 0.024199924411077517\n",
      "Epoch 4......Step: 600/1146....... Average Loss for Epoch: 0.023826916974503547\n",
      "Epoch 4......Step: 800/1146....... Average Loss for Epoch: 0.02328273756109411\n",
      "Epoch 4......Step: 1000/1146....... Average Loss for Epoch: 0.023438091033371165\n",
      "Epoch 4/5 Done, Total Loss: 0.023250043326964436\n",
      "Total Time Elapsed: 2.436765670776367 seconds\n",
      "Epoch 5......Step: 200/1146....... Average Loss for Epoch: 0.023807958760880866\n",
      "Epoch 5......Step: 400/1146....... Average Loss for Epoch: 0.021676234530023066\n",
      "Epoch 5......Step: 600/1146....... Average Loss for Epoch: 0.020707335372668847\n",
      "Epoch 5......Step: 800/1146....... Average Loss for Epoch: 0.02081107750738738\n",
      "Epoch 5......Step: 1000/1146....... Average Loss for Epoch: 0.0210075204273453\n",
      "Epoch 5/5 Done, Total Loss: 0.020735208158231752\n",
      "Total Time Elapsed: 2.3231430053710938 seconds\n",
      "Total Training Time: 12.07753849029541 seconds\n"
     ]
    }
   ],
   "source": [
    "lr = 0.001\n",
    "gru_model = train(train_loader, lr, model_type=\"GRU\")\n",
    "# Lstm_model = train(train_loader, lr, model_type=\"LSTM\")"
   ]
  },
  {
   "cell_type": "code",
   "execution_count": 147,
   "metadata": {},
   "outputs": [
    {
     "name": "stdout",
     "output_type": "stream",
     "text": [
      "The accuracy of the model is 71.76165803108809%\n"
     ]
    }
   ],
   "source": [
    "gru_outputs, targets = evaluate(gru_model, val_loader, label_scalers=y_te)\n",
    "\n"
   ]
  },
  {
   "cell_type": "code",
   "execution_count": 138,
   "metadata": {},
   "outputs": [
    {
     "name": "stdout",
     "output_type": "stream",
     "text": [
      "0\n"
     ]
    }
   ],
   "source": [
    "print(targets[3])"
   ]
  },
  {
   "cell_type": "code",
   "execution_count": 139,
   "metadata": {},
   "outputs": [
    {
     "data": {
      "text/plain": [
       "[<matplotlib.lines.Line2D at 0x7f09152fea30>]"
      ]
     },
     "execution_count": 139,
     "metadata": {},
     "output_type": "execute_result"
    },
    {
     "data": {
      "image/png": "[encoded data removed]",
      "text/plain": [
       "<Figure size 640x480 with 1 Axes>"
      ]
     },
     "metadata": {},
     "output_type": "display_data"
    }
   ],
   "source": [
    "plt.plot( targets)"
   ]
  },
  {
   "cell_type": "code",
   "execution_count": 140,
   "metadata": {},
   "outputs": [
    {
     "data": {
      "text/plain": [
       "[<matplotlib.lines.Line2D at 0x7f0919a2b790>]"
      ]
     },
     "execution_count": 140,
     "metadata": {},
     "output_type": "execute_result"
    },
    {
     "data": {
      "image/png": "[encoded data removed]",
      "text/plain": [
       "<Figure size 640x480 with 1 Axes>"
      ]
     },
     "metadata": {},
     "output_type": "display_data"
    }
   ],
   "source": [
    "plt.plot(gru_outputs)"
   ]
  },
  {
   "cell_type": "code",
   "execution_count": 141,
   "metadata": {},
   "outputs": [
    {
     "ename": "ValueError",
     "evalue": "Shape of passed values is (7150, 1), indices imply (7150, 3)",
     "output_type": "error",
     "traceback": [
      "\u001b[0;31m---------------------------------------------------------------------------\u001b[0m",
      "\u001b[0;31mValueError\u001b[0m                                Traceback (most recent call last)",
      "Cell \u001b[0;32mIn [141], line 2\u001b[0m\n\u001b[1;32m      1\u001b[0m output\u001b[38;5;241m=\u001b[39mnp\u001b[38;5;241m.\u001b[39marray(gru_outputs)\n\u001b[0;32m----> 2\u001b[0m data \u001b[38;5;241m=\u001b[39m \u001b[43mpd\u001b[49m\u001b[38;5;241;43m.\u001b[39;49m\u001b[43mDataFrame\u001b[49m\u001b[43m(\u001b[49m\u001b[43moutput\u001b[49m\u001b[43m,\u001b[49m\u001b[43m \u001b[49m\u001b[43mcolumns\u001b[49m\u001b[43m \u001b[49m\u001b[38;5;241;43m=\u001b[39;49m\u001b[43m \u001b[49m\u001b[43m[\u001b[49m\u001b[38;5;124;43m'\u001b[39;49m\u001b[38;5;124;43mbase\u001b[39;49m\u001b[38;5;124;43m'\u001b[39;49m\u001b[43m,\u001b[49m\u001b[38;5;124;43m'\u001b[39;49m\u001b[38;5;124;43mrotation\u001b[39;49m\u001b[38;5;124;43m'\u001b[39;49m\u001b[43m,\u001b[49m\u001b[38;5;124;43m'\u001b[39;49m\u001b[38;5;124;43mtranslation\u001b[39;49m\u001b[38;5;124;43m'\u001b[39;49m\u001b[43m]\u001b[49m\u001b[43m)\u001b[49m\n\u001b[1;32m      3\u001b[0m data\u001b[38;5;241m.\u001b[39mhead()\n",
      "File \u001b[0;32m~/.local/lib/python3.8/site-packages/pandas/core/frame.py:694\u001b[0m, in \u001b[0;36mDataFrame.__init__\u001b[0;34m(self, data, index, columns, dtype, copy)\u001b[0m\n\u001b[1;32m    684\u001b[0m         mgr \u001b[39m=\u001b[39m dict_to_mgr(\n\u001b[1;32m    685\u001b[0m             \u001b[39m# error: Item \"ndarray\" of \"Union[ndarray, Series, Index]\" has no\u001b[39;00m\n\u001b[1;32m    686\u001b[0m             \u001b[39m# attribute \"name\"\u001b[39;00m\n\u001b[0;32m   (...)\u001b[0m\n\u001b[1;32m    691\u001b[0m             typ\u001b[39m=\u001b[39mmanager,\n\u001b[1;32m    692\u001b[0m         )\n\u001b[1;32m    693\u001b[0m     \u001b[39melse\u001b[39;00m:\n\u001b[0;32m--> 694\u001b[0m         mgr \u001b[39m=\u001b[39m ndarray_to_mgr(\n\u001b[1;32m    695\u001b[0m             data,\n\u001b[1;32m    696\u001b[0m             index,\n\u001b[1;32m    697\u001b[0m             columns,\n\u001b[1;32m    698\u001b[0m             dtype\u001b[39m=\u001b[39;49mdtype,\n\u001b[1;32m    699\u001b[0m             copy\u001b[39m=\u001b[39;49mcopy,\n\u001b[1;32m    700\u001b[0m             typ\u001b[39m=\u001b[39;49mmanager,\n\u001b[1;32m    701\u001b[0m         )\n\u001b[1;32m    703\u001b[0m \u001b[39m# For data is list-like, or Iterable (will consume into list)\u001b[39;00m\n\u001b[1;32m    704\u001b[0m \u001b[39melif\u001b[39;00m is_list_like(data):\n",
      "File \u001b[0;32m~/.local/lib/python3.8/site-packages/pandas/core/internals/construction.py:351\u001b[0m, in \u001b[0;36mndarray_to_mgr\u001b[0;34m(values, index, columns, dtype, copy, typ)\u001b[0m\n\u001b[1;32m    346\u001b[0m \u001b[39m# _prep_ndarray ensures that values.ndim == 2 at this point\u001b[39;00m\n\u001b[1;32m    347\u001b[0m index, columns \u001b[39m=\u001b[39m _get_axes(\n\u001b[1;32m    348\u001b[0m     values\u001b[39m.\u001b[39mshape[\u001b[39m0\u001b[39m], values\u001b[39m.\u001b[39mshape[\u001b[39m1\u001b[39m], index\u001b[39m=\u001b[39mindex, columns\u001b[39m=\u001b[39mcolumns\n\u001b[1;32m    349\u001b[0m )\n\u001b[0;32m--> 351\u001b[0m _check_values_indices_shape_match(values, index, columns)\n\u001b[1;32m    353\u001b[0m \u001b[39mif\u001b[39;00m typ \u001b[39m==\u001b[39m \u001b[39m\"\u001b[39m\u001b[39marray\u001b[39m\u001b[39m\"\u001b[39m:\n\u001b[1;32m    355\u001b[0m     \u001b[39mif\u001b[39;00m \u001b[39missubclass\u001b[39m(values\u001b[39m.\u001b[39mdtype\u001b[39m.\u001b[39mtype, \u001b[39mstr\u001b[39m):\n",
      "File \u001b[0;32m~/.local/lib/python3.8/site-packages/pandas/core/internals/construction.py:422\u001b[0m, in \u001b[0;36m_check_values_indices_shape_match\u001b[0;34m(values, index, columns)\u001b[0m\n\u001b[1;32m    420\u001b[0m passed \u001b[39m=\u001b[39m values\u001b[39m.\u001b[39mshape\n\u001b[1;32m    421\u001b[0m implied \u001b[39m=\u001b[39m (\u001b[39mlen\u001b[39m(index), \u001b[39mlen\u001b[39m(columns))\n\u001b[0;32m--> 422\u001b[0m \u001b[39mraise\u001b[39;00m \u001b[39mValueError\u001b[39;00m(\u001b[39mf\u001b[39m\u001b[39m\"\u001b[39m\u001b[39mShape of passed values is \u001b[39m\u001b[39m{\u001b[39;00mpassed\u001b[39m}\u001b[39;00m\u001b[39m, indices imply \u001b[39m\u001b[39m{\u001b[39;00mimplied\u001b[39m}\u001b[39;00m\u001b[39m\"\u001b[39m)\n",
      "\u001b[0;31mValueError\u001b[0m: Shape of passed values is (7150, 1), indices imply (7150, 3)"
     ]
    }
   ],
   "source": [
    "output=np.array(gru_outputs)\n",
    "data = pd.DataFrame(output, columns = ['base','rotation','translation'])\n",
    "data.head()\n"
   ]
  },
  {
   "cell_type": "code",
   "execution_count": null,
   "metadata": {},
   "outputs": [],
   "source": [
    "out=np.array(targets)\n",
    "dat = pd.DataFrame(out, columns = ['base1','rotation1','translation1'])\n",
    "dat.head()\n",
    "\n"
   ]
  },
  {
   "cell_type": "code",
   "execution_count": null,
   "metadata": {},
   "outputs": [],
   "source": []
  },
  {
   "cell_type": "code",
   "execution_count": null,
   "metadata": {},
   "outputs": [],
   "source": [
    "from cmath import tanh\n",
    "r=[]\n",
    "\n",
    "res = output.max(axis=1)\n",
    "print(type(res))\n",
    "for i in res:\n",
    "    print(i)\n",
    "#     r.append (tanh(res[i]))    \n",
    "plt.plot(res)"
   ]
  },
  {
   "cell_type": "code",
   "execution_count": null,
   "metadata": {},
   "outputs": [],
   "source": [
    "data['base1'] = dat.base1\n",
    "data['rotation1'] = dat.rotation1\n",
    "data['translation1'] = dat.translation1\n",
    "data.head()"
   ]
  },
  {
   "cell_type": "code",
   "execution_count": null,
   "metadata": {},
   "outputs": [],
   "source": []
  },
  {
   "cell_type": "code",
   "execution_count": null,
   "metadata": {},
   "outputs": [],
   "source": [
    "data.to_csv(\"results_4.csv\")"
   ]
  },
  {
   "cell_type": "code",
   "execution_count": null,
   "metadata": {},
   "outputs": [],
   "source": [
    "decoded=np.argmax(output, axis=1)\n",
    "plt.plot(decoded)"
   ]
  },
  {
   "cell_type": "code",
   "execution_count": null,
   "metadata": {},
   "outputs": [],
   "source": [
    "deco=np.argmax(targets, axis=1)\n",
    "plt.plot(decoded)"
   ]
  },
  {
   "cell_type": "code",
   "execution_count": null,
   "metadata": {},
   "outputs": [],
   "source": [
    "\n",
    "dat = pd.DataFrame(deco, columns = ['target'])\n",
    "dat.head()"
   ]
  },
  {
   "cell_type": "code",
   "execution_count": null,
   "metadata": {},
   "outputs": [],
   "source": [
    "\n",
    "dat1 = pd.DataFrame(decoded, columns = ['output'])\n",
    "dat1.head()"
   ]
  },
  {
   "cell_type": "code",
   "execution_count": null,
   "metadata": {},
   "outputs": [],
   "source": [
    "dat1['target'] = dat.target\n",
    "dat1.head()"
   ]
  },
  {
   "cell_type": "code",
   "execution_count": null,
   "metadata": {},
   "outputs": [],
   "source": [
    "dat1.to_csv(\"results_5.csv\")"
   ]
  }
 ],
 "metadata": {
  "kernelspec": {
   "display_name": "Python 3.8.10 64-bit",
   "language": "python",
   "name": "python3"
  },
  "language_info": {
   "codemirror_mode": {
    "name": "ipython",
    "version": 3
   },
   "file_extension": ".py",
   "mimetype": "text/x-python",
   "name": "python",
   "nbconvert_exporter": "python",
   "pygments_lexer": "ipython3",
   "version": "3.8.10"
  },
  "orig_nbformat": 4,
  "vscode": {
   "interpreter": {
    "hash": "e7370f93d1d0cde622a1f8e1c04877d8463912d04d973331ad4851f04de6915a"
   }
  }
 },
 "nbformat": 4,
 "nbformat_minor": 2
}
