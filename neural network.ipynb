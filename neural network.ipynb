{
 "cells": [
  {
   "cell_type": "code",
   "execution_count": 214,
   "metadata": {},
   "outputs": [],
   "source": [
    "import numpy as np\n",
    "import pandas as pd\n",
    "import seaborn as sns\n",
    "import matplotlib.pyplot as plt\n",
    "import os\n",
    "import time\n",
    "import torch\n",
    "import torch.nn as nn\n",
    "import torch.optim as optim\n",
    "from torch.utils.data import Dataset, DataLoader\n",
    "from torch.utils.data import TensorDataset, DataLoader\n",
    "from sklearn.preprocessing import MinMaxScaler  \n",
    "from sklearn.model_selection import train_test_split\n",
    "from sklearn.metrics import confusion_matrix, classification_report"
   ]
  },
  {
   "cell_type": "code",
   "execution_count": 215,
   "metadata": {},
   "outputs": [
    {
     "data": {
      "text/html": [
       "<div>\n",
       "<style scoped>\n",
       "    .dataframe tbody tr th:only-of-type {\n",
       "        vertical-align: middle;\n",
       "    }\n",
       "\n",
       "    .dataframe tbody tr th {\n",
       "        vertical-align: top;\n",
       "    }\n",
       "\n",
       "    .dataframe thead th {\n",
       "        text-align: right;\n",
       "    }\n",
       "</style>\n",
       "<table border=\"1\" class=\"dataframe\">\n",
       "  <thead>\n",
       "    <tr style=\"text-align: right;\">\n",
       "      <th></th>\n",
       "      <th>samples</th>\n",
       "      <th>joint_effort[0]</th>\n",
       "      <th>joint_effort[1]</th>\n",
       "      <th>joint_effort[2]</th>\n",
       "      <th>joint_effort[3]</th>\n",
       "      <th>joint_effort[4]</th>\n",
       "      <th>joint_effort[5]</th>\n",
       "      <th>cluster</th>\n",
       "    </tr>\n",
       "  </thead>\n",
       "  <tbody>\n",
       "    <tr>\n",
       "      <th>0</th>\n",
       "      <td>0</td>\n",
       "      <td>1.050352</td>\n",
       "      <td>0.036084</td>\n",
       "      <td>0.153670</td>\n",
       "      <td>-0.208722</td>\n",
       "      <td>-0.226335</td>\n",
       "      <td>0.071900</td>\n",
       "      <td>0</td>\n",
       "    </tr>\n",
       "    <tr>\n",
       "      <th>1</th>\n",
       "      <td>1</td>\n",
       "      <td>1.040706</td>\n",
       "      <td>0.052485</td>\n",
       "      <td>0.160204</td>\n",
       "      <td>-0.204533</td>\n",
       "      <td>-0.222889</td>\n",
       "      <td>0.070273</td>\n",
       "      <td>0</td>\n",
       "    </tr>\n",
       "    <tr>\n",
       "      <th>2</th>\n",
       "      <td>2</td>\n",
       "      <td>1.070528</td>\n",
       "      <td>0.033901</td>\n",
       "      <td>0.198342</td>\n",
       "      <td>-0.208156</td>\n",
       "      <td>-0.228432</td>\n",
       "      <td>0.070408</td>\n",
       "      <td>0</td>\n",
       "    </tr>\n",
       "    <tr>\n",
       "      <th>3</th>\n",
       "      <td>3</td>\n",
       "      <td>1.078726</td>\n",
       "      <td>0.032952</td>\n",
       "      <td>0.203791</td>\n",
       "      <td>-0.208763</td>\n",
       "      <td>-0.228608</td>\n",
       "      <td>0.071877</td>\n",
       "      <td>0</td>\n",
       "    </tr>\n",
       "    <tr>\n",
       "      <th>4</th>\n",
       "      <td>4</td>\n",
       "      <td>1.046257</td>\n",
       "      <td>0.048101</td>\n",
       "      <td>0.215115</td>\n",
       "      <td>-0.205263</td>\n",
       "      <td>-0.223011</td>\n",
       "      <td>0.071184</td>\n",
       "      <td>0</td>\n",
       "    </tr>\n",
       "  </tbody>\n",
       "</table>\n",
       "</div>"
      ],
      "text/plain": [
       "   samples  joint_effort[0]  joint_effort[1]  joint_effort[2]  \\\n",
       "0        0         1.050352         0.036084         0.153670   \n",
       "1        1         1.040706         0.052485         0.160204   \n",
       "2        2         1.070528         0.033901         0.198342   \n",
       "3        3         1.078726         0.032952         0.203791   \n",
       "4        4         1.046257         0.048101         0.215115   \n",
       "\n",
       "   joint_effort[3]  joint_effort[4]  joint_effort[5]  cluster  \n",
       "0        -0.208722        -0.226335         0.071900        0  \n",
       "1        -0.204533        -0.222889         0.070273        0  \n",
       "2        -0.208156        -0.228432         0.070408        0  \n",
       "3        -0.208763        -0.228608         0.071877        0  \n",
       "4        -0.205263        -0.223011         0.071184        0  "
      ]
     },
     "execution_count": 215,
     "metadata": {},
     "output_type": "execute_result"
    }
   ],
   "source": [
    "# Store csv file in a Pandas DataFrame\n",
    "df = pd.read_csv('combined_labled_k6.csv')\n",
    "df.head()"
   ]
  },
  {
   "cell_type": "markdown",
   "metadata": {},
   "source": []
  },
  {
   "cell_type": "code",
   "execution_count": 216,
   "metadata": {},
   "outputs": [
    {
     "data": {
      "text/plain": [
       "<matplotlib.axes._subplots.AxesSubplot at 0x7f09a1e30550>"
      ]
     },
     "execution_count": 216,
     "metadata": {},
     "output_type": "execute_result"
    },
    {
     "data": {
      "image/png": "[encoded data removed]",
      "text/plain": [
       "<Figure size 640x480 with 1 Axes>"
      ]
     },
     "metadata": {},
     "output_type": "display_data"
    }
   ],
   "source": [
    "sns.countplot(x = 'cluster', data=df)"
   ]
  },
  {
   "cell_type": "code",
   "execution_count": 217,
   "metadata": {},
   "outputs": [],
   "source": [
    "X = df.iloc[:, 1:-1]\n",
    "y = df.iloc[:, -1]\n",
    "X=np.array(X)\n",
    "y= np.array(y)"
   ]
  },
  {
   "cell_type": "code",
   "execution_count": 218,
   "metadata": {},
   "outputs": [
    {
     "data": {
      "text/plain": [
       "array([[ 1.05035197,  0.03608361,  0.15366994, -0.20872176, -0.22633529,\n",
       "         0.07190013],\n",
       "       [ 1.04070593,  0.05248472,  0.16020391, -0.20453307, -0.22288895,\n",
       "         0.07027318],\n",
       "       [ 1.07052848,  0.03390063,  0.19834174, -0.20815593, -0.22843161,\n",
       "         0.07040757],\n",
       "       ...,\n",
       "       [ 2.18775072,  0.72399379, -0.04694298, -0.1240152 , -0.3555519 ,\n",
       "        -0.3742596 ],\n",
       "       [ 2.17323085,  0.76483473, -0.16630029, -0.11638658, -0.3595942 ,\n",
       "        -0.37862044],\n",
       "       [ 2.21371423,  0.70888995, -0.01968097, -0.12413878, -0.36091259,\n",
       "        -0.37732746]])"
      ]
     },
     "execution_count": 218,
     "metadata": {},
     "output_type": "execute_result"
    }
   ],
   "source": [
    "X"
   ]
  },
  {
   "cell_type": "code",
   "execution_count": 219,
   "metadata": {},
   "outputs": [
    {
     "data": {
      "text/plain": [
       "array([[0],\n",
       "       [0],\n",
       "       [0],\n",
       "       ...,\n",
       "       [0],\n",
       "       [0],\n",
       "       [0]])"
      ]
     },
     "execution_count": 219,
     "metadata": {},
     "output_type": "execute_result"
    }
   ],
   "source": [
    "y=y.reshape(-1,1)\n",
    "y"
   ]
  },
  {
   "cell_type": "code",
   "execution_count": 220,
   "metadata": {},
   "outputs": [],
   "source": [
    "X_tr, X_te, y_tr, y_te = train_test_split(X, y, test_size=0.2, random_state=None,shuffle=False)"
   ]
  },
  {
   "cell_type": "code",
   "execution_count": 221,
   "metadata": {},
   "outputs": [
    {
     "name": "stdout",
     "output_type": "stream",
     "text": [
      "(35838, 6)\n"
     ]
    }
   ],
   "source": [
    "scaler = MinMaxScaler()\n",
    "X1= scaler.fit_transform(X)\n",
    "x1 = scaler.transform(X1)\n",
    "\n",
    "print(X1.shape)\n",
    "\n",
    "\n"
   ]
  },
  {
   "cell_type": "code",
   "execution_count": 222,
   "metadata": {},
   "outputs": [
    {
     "name": "stdout",
     "output_type": "stream",
     "text": [
      "(35838, 1)\n"
     ]
    }
   ],
   "source": [
    "sc = MinMaxScaler()\n",
    "\n",
    "y1= sc.fit_transform(y.reshape(-1,1))\n",
    "#y1 = sc.transform(y1)\n",
    "\n",
    "\n",
    "print(y1.shape)\n"
   ]
  },
  {
   "cell_type": "code",
   "execution_count": 223,
   "metadata": {},
   "outputs": [
    {
     "name": "stdout",
     "output_type": "stream",
     "text": [
      "[[0.31531986 0.62765369 0.75464588 0.45017587 0.63641474 0.64530948]\n",
      " [0.31253532 0.62962466 0.75810344 0.45373317 0.64053097 0.64348093]\n",
      " [0.32114426 0.62739136 0.77828475 0.45065642 0.63391094 0.64363198]\n",
      " ...\n",
      " [0.64365528 0.71032188 0.64848798 0.52211411 0.48208143 0.1438633 ]\n",
      " [0.6394638  0.71522986 0.58532794 0.52859282 0.47725339 0.13896208]\n",
      " [0.65115023 0.70850681 0.66291416 0.52200916 0.47567873 0.14041528]]\n"
     ]
    }
   ],
   "source": [
    "print(X1)"
   ]
  },
  {
   "cell_type": "code",
   "execution_count": 224,
   "metadata": {},
   "outputs": [
    {
     "name": "stdout",
     "output_type": "stream",
     "text": [
      "[1.]\n"
     ]
    }
   ],
   "source": [
    "print(max(y1))"
   ]
  },
  {
   "cell_type": "code",
   "execution_count": 225,
   "metadata": {},
   "outputs": [],
   "source": [
    "## train dataclass TrainData(Dataset):\n",
    "#from http.client import _DataType\n",
    "\n",
    "\n",
    "class TrainData(Dataset):   \n",
    "    def __init__(self, X_data, y_data):\n",
    "        self.X_data = X_data\n",
    "        self.y_data = y_data\n",
    "        self.window=5\n",
    "        \n",
    "    def __getitem__(self, index):\n",
    "        if index>= self.length-self.window:\n",
    "            X=self.X_data[index:index+self.window,]\n",
    "            Y=self.y_data[index,]\n",
    "        else:\n",
    "            X=self.X_data[index:index+self.window,]  \n",
    "            Y=self.y_data[index+self.window,]\n",
    "        \n",
    "        return X,Y\n",
    "        \n",
    "    def __len__ (self):\n",
    "        Q = len(self.X_data)\n",
    "        self.length=Q-self.window+1\n",
    "        return self.length\n",
    "\n",
    "# train_data = TrainData(torch.FloatTensor(X_train), \n",
    "#                        torch.FloatTensor(y_train))\n",
    "\n",
    "## test data  \n",
    "# class TestData(Dataset):\n",
    "    \n",
    "#     def __init__(self, X_data,y_data):\n",
    "#         self.X_data = X_data\n",
    "#         self.y_data = y_data\n",
    "#         self.window=5\n",
    "#     def __getitem__(self, index):\n",
    "#         if index>= self.length-self.window:\n",
    "#             X=self.X_data[index:index+self.window]\n",
    "#             Y=self.y_data[index,]\n",
    "\n",
    "#         else:\n",
    "#             X=self.X_data[index:index+self.window]  \n",
    "#             Y=self.y_data[index+self.window,]\n",
    "        \n",
    "#         return X,Y\n",
    "#     def __len__ (self):\n",
    "#         Q = len(self.X_data)\n",
    "#         self.length=Q-self.window+1\n",
    "#         return self.length\n",
    "    \n",
    "\n",
    "#test_data = TrainData(torch.FloatTensor(X_test),torch.FloatTensor(y_test))                      "
   ]
  },
  {
   "cell_type": "code",
   "execution_count": 226,
   "metadata": {},
   "outputs": [
    {
     "name": "stdout",
     "output_type": "stream",
     "text": [
      "torch.Size([25, 5, 6])\n",
      "torch.Size([25, 1])\n",
      "<class 'torch.Tensor'>\n",
      "<class 'torch.Tensor'>\n",
      "torch.Size([25, 5, 6])\n",
      "torch.Size([25, 1])\n",
      "<class 'torch.Tensor'>\n",
      "<class 'torch.Tensor'>\n"
     ]
    }
   ],
   "source": [
    "cs=TrainData(torch.FloatTensor(X1),torch.FloatTensor(y1))\n",
    "train_l=round(int(cs.__len__())*0.8)\n",
    "\n",
    "batch_size=25\n",
    "val_l=int(cs.__len__())-train_l\n",
    "\n",
    "train_set, val_set = torch.utils.data.random_split(cs, [train_l, val_l])\n",
    "\n",
    "train_loader = DataLoader(train_set, shuffle=True, batch_size=batch_size, drop_last=True)\n",
    "\n",
    "\n",
    "for each_x, each_y in train_loader:\n",
    "    print(each_x.shape)\n",
    "    print(each_y.shape)\n",
    "    print(type(each_x))\n",
    "    print(type(each_y))\n",
    "    break\n",
    "    \n",
    "    \n",
    "val_loader = DataLoader(val_set, shuffle=True, batch_size=batch_size, drop_last=True)\n",
    "for each_x, each_y in val_loader:\n",
    "    print(each_x.shape)\n",
    "    print(each_y.shape)\n",
    "    print(type(each_x))\n",
    "    print(type(each_y))\n",
    "    break"
   ]
  },
  {
   "cell_type": "code",
   "execution_count": 227,
   "metadata": {},
   "outputs": [],
   "source": [
    "\n",
    "\n",
    "\n",
    "# batch_size=25\n",
    "\n",
    "# train_loader = DataLoader(dataset=train_data, shuffle=True, batch_size=batch_size, drop_last=True)\n",
    "\n",
    "\n",
    "# val_loader = DataLoader(dataset=test_data, shuffle=True, batch_size=batch_size, drop_last=True)\n",
    "# print(next(iter(train_loader))[0].shape[0])\n",
    "# #print(train_loader.batch_size)\n",
    "# for each_x, each_y in train_loader:\n",
    "#     print(each_x.shape)\n",
    "#     print(each_y.shape)\n",
    "#     break\n",
    "    \n",
    "    \n",
    "\n",
    "# for each_x,each_y in val_loader:\n",
    "#     print(each_x.shape)\n",
    "#     print(each_y.shape)\n",
    "#     break"
   ]
  },
  {
   "cell_type": "code",
   "execution_count": 228,
   "metadata": {},
   "outputs": [],
   "source": [
    "# torch.cuda.is_available() checks and returns a Boolean True if a GPU is available, else it'll return False\n",
    "is_cuda = torch.cuda.is_available()\n",
    "\n",
    "# If we have a GPU available, we'll set our device to GPU. We'll use this device variable later in our code.\n",
    "if is_cuda:\n",
    "    device = torch.device(\"cuda\")\n",
    "else:\n",
    "    device = torch.device(\"cpu\")"
   ]
  },
  {
   "cell_type": "code",
   "execution_count": 229,
   "metadata": {},
   "outputs": [],
   "source": [
    "class GRUNet(nn.Module):\n",
    "    def __init__(self, input_dim, hidden_dim, output_dim, n_layers, drop_prob=0.2):\n",
    "        super(GRUNet, self).__init__()\n",
    "        self.hidden_dim = hidden_dim\n",
    "        self.n_layers = n_layers\n",
    "        \n",
    "        self.gru = nn.GRU(input_dim, hidden_dim, n_layers, batch_first=True, dropout=drop_prob)\n",
    "        self.fc = nn.Linear(hidden_dim, output_dim)\n",
    "        self.relu = nn.ReLU()\n",
    "        \n",
    "    def forward(self, x, h):\n",
    "        #print(x,h)\n",
    "        out, h = self.gru(x, h)\n",
    "        out = self.fc(self.relu(out[:,-1]))\n",
    "        return out, h\n",
    "    \n",
    "    def init_hidden(self, batch_size):\n",
    "        weight = next(self.parameters()).data\n",
    "        hidden = weight.new(self.n_layers, batch_size, self.hidden_dim).zero_().to(device)\n",
    "        return hidden\n",
    "class LSTMNet(nn.Module):\n",
    "    def __init__(self, input_dim, hidden_dim, output_dim, n_layers, drop_prob=0.2):\n",
    "        super(LSTMNet, self).__init__()\n",
    "        self.hidden_dim = hidden_dim\n",
    "        self.n_layers = n_layers\n",
    "        \n",
    "        self.lstm = nn.LSTM(input_dim, hidden_dim, n_layers, batch_first=True, dropout=drop_prob)\n",
    "        self.fc = nn.Linear(hidden_dim, output_dim)\n",
    "        self.relu = nn.ReLU()\n",
    "        \n",
    "    def forward(self, x, h):\n",
    "        out, h = self.lstm(x, h)\n",
    "        out = self.fc(self.relu(out[:,-1]))\n",
    "        return out, h\n",
    "    \n",
    "    def init_hidden(self, batch_size):\n",
    "        weight = next(self.parameters()).data\n",
    "        hidden = (weight.new(self.n_layers, batch_size, self.hidden_dim).zero_().to(device),\n",
    "                  weight.new(self.n_layers, batch_size, self.hidden_dim).zero_().to(device))\n",
    "        return hidden"
   ]
  },
  {
   "cell_type": "code",
   "execution_count": 230,
   "metadata": {},
   "outputs": [],
   "source": [
    "\n",
    "def train(train_loader, learn_rate, hidden_dim=256, EPOCHS=5, model_type=\"GRU\"):\n",
    "    print(next(iter(train_loader))[0].shape[2])\n",
    "    # Setting common hyperparameters\n",
    "    input_dim = next(iter(train_loader))[0].shape[2]\n",
    "    output_dim = 1\n",
    "    n_layers = 2\n",
    "    # Instantiating the models\n",
    "    if model_type == \"GRU\":\n",
    "        model = GRUNet(input_dim, hidden_dim, output_dim, n_layers)\n",
    "    else:\n",
    "        model = LSTMNet(input_dim, hidden_dim, output_dim, n_layers)\n",
    "    model.to(device)\n",
    "    \n",
    "    # Defining loss function and optimizer\n",
    "    criterion = nn.MSELoss()\n",
    "    optimizer = torch.optim.Adam(model.parameters(), lr=learn_rate)\n",
    "    \n",
    "    model.train()\n",
    "    print(\"Starting Training of {} model\".format(model_type))\n",
    "    epoch_times = []\n",
    "    # Start training loop\n",
    "    for epoch in range(1,EPOCHS+1):\n",
    "        start_time = time.time()\n",
    "        h = model.init_hidden(batch_size)\n",
    "        avg_loss = 0.\n",
    "        counter = 0\n",
    "        for x, label in train_loader:\n",
    "            counter += 1\n",
    "            if model_type == \"GRU\":\n",
    "                h = h.data\n",
    "            else:\n",
    "                h = tuple([e.data for e in h])\n",
    "            model.zero_grad()\n",
    "            \n",
    "            out, h = model(x.to(device), h)\n",
    "            loss = criterion(out, label.to(device))\n",
    "            loss.backward()\n",
    "            optimizer.step()\n",
    "            avg_loss += loss.item()\n",
    "            if counter%200 == 0:\n",
    "                print(\"Epoch {}......Step: {}/{}....... Average Loss for Epoch: {}\".format(epoch, counter, len(train_loader), avg_loss/counter))\n",
    "        current_time = time.time()\n",
    "        print(\"Epoch {}/{} Done, Total Loss: {}\".format(epoch, EPOCHS, avg_loss/len(train_loader)))\n",
    "        print(\"Total Time Elapsed: {} seconds\".format(str(current_time-start_time)))\n",
    "        epoch_times.append(current_time-start_time)\n",
    "    print(\"Total Training Time: {} seconds\".format(str(sum(epoch_times))))\n",
    "    return model\n"
   ]
  },
  {
   "cell_type": "code",
   "execution_count": null,
   "metadata": {},
   "outputs": [],
   "source": []
  },
  {
   "cell_type": "code",
   "execution_count": 236,
   "metadata": {},
   "outputs": [],
   "source": [
    "def evaluate(model, val_loader, label_scalers):\n",
    "    model.eval()\n",
    "    outputs = []\n",
    "    targets = []\n",
    "    start_time = time.time()\n",
    "    for each_x,each_y in val_loader:\n",
    "        inp = (each_x.to(device))\n",
    "        labs = (each_y.to(device))\n",
    "        h = model.init_hidden(inp.shape[0])\n",
    "        # print(inp.size)\n",
    "        out, h = model(inp, h)\n",
    "        outputs.extend(out.cpu().detach().numpy().reshape(1, -1)[0])\n",
    "        targets.extend(each_y.cpu().numpy().reshape(1, -1)[0])\n",
    "    print(\"Evaluation Time: {}\".format(str(time.time()-start_time)))\n",
    "    \n",
    "    return outputs, targets"
   ]
  },
  {
   "cell_type": "code",
   "execution_count": 237,
   "metadata": {},
   "outputs": [
    {
     "name": "stdout",
     "output_type": "stream",
     "text": [
      "6\n",
      "Starting Training of GRU model\n",
      "Epoch 1......Step: 200/1146....... Average Loss for Epoch: 0.05686163354315795\n",
      "Epoch 1......Step: 400/1146....... Average Loss for Epoch: 0.061277913403318965\n",
      "Epoch 1......Step: 600/1146....... Average Loss for Epoch: 0.0597326705334126\n",
      "Epoch 1......Step: 800/1146....... Average Loss for Epoch: 0.05687351892331208\n",
      "Epoch 1......Step: 1000/1146....... Average Loss for Epoch: 0.05213702760118758\n",
      "Epoch 1/5 Done, Total Loss: 0.049597450186023864\n",
      "Total Time Elapsed: 1.7991926670074463 seconds\n",
      "Epoch 2......Step: 200/1146....... Average Loss for Epoch: 0.02813593690574635\n",
      "Epoch 2......Step: 400/1146....... Average Loss for Epoch: 0.028833232758770463\n",
      "Epoch 2......Step: 600/1146....... Average Loss for Epoch: 0.027675018563556173\n",
      "Epoch 2......Step: 800/1146....... Average Loss for Epoch: 0.027049499471759192\n",
      "Epoch 2......Step: 1000/1146....... Average Loss for Epoch: 0.027190137467812747\n",
      "Epoch 2/5 Done, Total Loss: 0.027167436306087103\n",
      "Total Time Elapsed: 1.7963781356811523 seconds\n",
      "Epoch 3......Step: 200/1146....... Average Loss for Epoch: 0.02563840249145869\n",
      "Epoch 3......Step: 400/1146....... Average Loss for Epoch: 0.023478180864767637\n",
      "Epoch 3......Step: 600/1146....... Average Loss for Epoch: 0.023975037402124144\n",
      "Epoch 3......Step: 800/1146....... Average Loss for Epoch: 0.02433138842039625\n",
      "Epoch 3......Step: 1000/1146....... Average Loss for Epoch: 0.023321993196499535\n",
      "Epoch 3/5 Done, Total Loss: 0.02337000649735286\n",
      "Total Time Elapsed: 1.8691794872283936 seconds\n",
      "Epoch 4......Step: 200/1146....... Average Loss for Epoch: 0.022078050668060314\n",
      "Epoch 4......Step: 400/1146....... Average Loss for Epoch: 0.02192626810829097\n",
      "Epoch 4......Step: 600/1146....... Average Loss for Epoch: 0.02165312273558811\n",
      "Epoch 4......Step: 800/1146....... Average Loss for Epoch: 0.021555087454289606\n",
      "Epoch 4......Step: 1000/1146....... Average Loss for Epoch: 0.02141976853981032\n",
      "Epoch 4/5 Done, Total Loss: 0.021211266099087477\n",
      "Total Time Elapsed: 1.880077600479126 seconds\n",
      "Epoch 5......Step: 200/1146....... Average Loss for Epoch: 0.02018215542368125\n",
      "Epoch 5......Step: 400/1146....... Average Loss for Epoch: 0.021799062338322982\n",
      "Epoch 5......Step: 600/1146....... Average Loss for Epoch: 0.021718718616223973\n",
      "Epoch 5......Step: 800/1146....... Average Loss for Epoch: 0.02070856494447071\n",
      "Epoch 5......Step: 1000/1146....... Average Loss for Epoch: 0.02001824526579003\n",
      "Epoch 5/5 Done, Total Loss: 0.020100043927215528\n",
      "Total Time Elapsed: 1.8028998374938965 seconds\n",
      "Total Training Time: 9.147727727890015 seconds\n"
     ]
    }
   ],
   "source": [
    "lr = 0.001\n",
    "gru_model = train(train_loader, lr, model_type=\"GRU\")\n",
    "#Lstm_model = train(train_loader, lr, model_type=\"LSTM\")"
   ]
  },
  {
   "cell_type": "code",
   "execution_count": 238,
   "metadata": {},
   "outputs": [
    {
     "name": "stdout",
     "output_type": "stream",
     "text": [
      "Evaluation Time: 0.12534499168395996\n"
     ]
    }
   ],
   "source": [
    "gru_outputs, targets = evaluate(gru_model, val_loader, label_scalers=y_te)\n",
    "\n"
   ]
  },
  {
   "cell_type": "code",
   "execution_count": 239,
   "metadata": {},
   "outputs": [
    {
     "data": {
      "text/plain": [
       "[<matplotlib.lines.Line2D at 0x7f0894371a90>]"
      ]
     },
     "execution_count": 239,
     "metadata": {},
     "output_type": "execute_result"
    },
    {
     "data": {
      "image/png": "[encoded data removed]",
      "text/plain": [
       "<Figure size 640x480 with 1 Axes>"
      ]
     },
     "metadata": {},
     "output_type": "display_data"
    }
   ],
   "source": [
    "plt.plot( targets)"
   ]
  },
  {
   "cell_type": "code",
   "execution_count": 240,
   "metadata": {},
   "outputs": [
    {
     "data": {
      "text/plain": [
       "[<matplotlib.lines.Line2D at 0x7f099f4ea070>]"
      ]
     },
     "execution_count": 240,
     "metadata": {},
     "output_type": "execute_result"
    },
    {
     "data": {
      "image/png": "[encoded data removed]",
      "text/plain": [
       "<Figure size 640x480 with 1 Axes>"
      ]
     },
     "metadata": {},
     "output_type": "display_data"
    }
   ],
   "source": [
    "plt.plot(gru_outputs)"
   ]
  }
 ],
 "metadata": {
  "kernelspec": {
   "display_name": "Python 3.8.10 64-bit",
   "language": "python",
   "name": "python3"
  },
  "language_info": {
   "codemirror_mode": {
    "name": "ipython",
    "version": 3
   },
   "file_extension": ".py",
   "mimetype": "text/x-python",
   "name": "python",
   "nbconvert_exporter": "python",
   "pygments_lexer": "ipython3",
   "version": "3.8.10"
  },
  "orig_nbformat": 4,
  "vscode": {
   "interpreter": {
    "hash": "e7370f93d1d0cde622a1f8e1c04877d8463912d04d973331ad4851f04de6915a"
   }
  }
 },
 "nbformat": 4,
 "nbformat_minor": 2
}
