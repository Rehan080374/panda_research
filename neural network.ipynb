{
 "cells": [
  {
   "cell_type": "code",
   "execution_count": 153,
   "metadata": {},
   "outputs": [],
   "source": [
    "import numpy as np\n",
    "import pandas as pd\n",
    "import seaborn as sns\n",
    "import matplotlib.pyplot as plt\n",
    "import os\n",
    "import time\n",
    "import torch\n",
    "import torch.nn as nn\n",
    "import torch.optim as optim\n",
    "from torch.utils.data import Dataset, DataLoader\n",
    "from torch.utils.data import TensorDataset, DataLoader\n",
    "from sklearn.preprocessing import StandardScaler    \n",
    "from sklearn.model_selection import train_test_split\n",
    "from sklearn.metrics import confusion_matrix, classification_report"
   ]
  },
  {
   "cell_type": "code",
   "execution_count": 154,
   "metadata": {},
   "outputs": [
    {
     "data": {
      "text/html": [
       "<div>\n",
       "<style scoped>\n",
       "    .dataframe tbody tr th:only-of-type {\n",
       "        vertical-align: middle;\n",
       "    }\n",
       "\n",
       "    .dataframe tbody tr th {\n",
       "        vertical-align: top;\n",
       "    }\n",
       "\n",
       "    .dataframe thead th {\n",
       "        text-align: right;\n",
       "    }\n",
       "</style>\n",
       "<table border=\"1\" class=\"dataframe\">\n",
       "  <thead>\n",
       "    <tr style=\"text-align: right;\">\n",
       "      <th></th>\n",
       "      <th>samples</th>\n",
       "      <th>joint_effort[0]</th>\n",
       "      <th>joint_effort[1]</th>\n",
       "      <th>joint_effort[2]</th>\n",
       "      <th>joint_effort[3]</th>\n",
       "      <th>joint_effort[4]</th>\n",
       "      <th>joint_effort[5]</th>\n",
       "      <th>cluster</th>\n",
       "    </tr>\n",
       "  </thead>\n",
       "  <tbody>\n",
       "    <tr>\n",
       "      <th>0</th>\n",
       "      <td>0</td>\n",
       "      <td>1.050352</td>\n",
       "      <td>0.036084</td>\n",
       "      <td>0.153670</td>\n",
       "      <td>-0.208722</td>\n",
       "      <td>-0.226335</td>\n",
       "      <td>0.071900</td>\n",
       "      <td>0</td>\n",
       "    </tr>\n",
       "    <tr>\n",
       "      <th>1</th>\n",
       "      <td>1</td>\n",
       "      <td>1.040706</td>\n",
       "      <td>0.052485</td>\n",
       "      <td>0.160204</td>\n",
       "      <td>-0.204533</td>\n",
       "      <td>-0.222889</td>\n",
       "      <td>0.070273</td>\n",
       "      <td>0</td>\n",
       "    </tr>\n",
       "    <tr>\n",
       "      <th>2</th>\n",
       "      <td>2</td>\n",
       "      <td>1.070528</td>\n",
       "      <td>0.033901</td>\n",
       "      <td>0.198342</td>\n",
       "      <td>-0.208156</td>\n",
       "      <td>-0.228432</td>\n",
       "      <td>0.070408</td>\n",
       "      <td>0</td>\n",
       "    </tr>\n",
       "    <tr>\n",
       "      <th>3</th>\n",
       "      <td>3</td>\n",
       "      <td>1.078726</td>\n",
       "      <td>0.032952</td>\n",
       "      <td>0.203791</td>\n",
       "      <td>-0.208763</td>\n",
       "      <td>-0.228608</td>\n",
       "      <td>0.071877</td>\n",
       "      <td>0</td>\n",
       "    </tr>\n",
       "    <tr>\n",
       "      <th>4</th>\n",
       "      <td>4</td>\n",
       "      <td>1.046257</td>\n",
       "      <td>0.048101</td>\n",
       "      <td>0.215115</td>\n",
       "      <td>-0.205263</td>\n",
       "      <td>-0.223011</td>\n",
       "      <td>0.071184</td>\n",
       "      <td>0</td>\n",
       "    </tr>\n",
       "  </tbody>\n",
       "</table>\n",
       "</div>"
      ],
      "text/plain": [
       "   samples  joint_effort[0]  joint_effort[1]  joint_effort[2]  \\\n",
       "0        0         1.050352         0.036084         0.153670   \n",
       "1        1         1.040706         0.052485         0.160204   \n",
       "2        2         1.070528         0.033901         0.198342   \n",
       "3        3         1.078726         0.032952         0.203791   \n",
       "4        4         1.046257         0.048101         0.215115   \n",
       "\n",
       "   joint_effort[3]  joint_effort[4]  joint_effort[5]  cluster  \n",
       "0        -0.208722        -0.226335         0.071900        0  \n",
       "1        -0.204533        -0.222889         0.070273        0  \n",
       "2        -0.208156        -0.228432         0.070408        0  \n",
       "3        -0.208763        -0.228608         0.071877        0  \n",
       "4        -0.205263        -0.223011         0.071184        0  "
      ]
     },
     "execution_count": 154,
     "metadata": {},
     "output_type": "execute_result"
    }
   ],
   "source": [
    "# Store csv file in a Pandas DataFrame\n",
    "df = pd.read_csv('combined_labled_k6.csv')\n",
    "df.head()"
   ]
  },
  {
   "cell_type": "markdown",
   "metadata": {},
   "source": []
  },
  {
   "cell_type": "code",
   "execution_count": 155,
   "metadata": {},
   "outputs": [
    {
     "data": {
      "text/plain": [
       "<matplotlib.axes._subplots.AxesSubplot at 0x7f6a8aa6c640>"
      ]
     },
     "execution_count": 155,
     "metadata": {},
     "output_type": "execute_result"
    },
    {
     "data": {
      "image/png": "[encoded data removed]",
      "text/plain": [
       "<Figure size 640x480 with 1 Axes>"
      ]
     },
     "metadata": {},
     "output_type": "display_data"
    }
   ],
   "source": [
    "sns.countplot(x = 'cluster', data=df)"
   ]
  },
  {
   "cell_type": "code",
   "execution_count": 156,
   "metadata": {},
   "outputs": [],
   "source": [
    "X = df.iloc[:, 1:-1]\n",
    "y = df.iloc[:, -1]\n",
    "X=np.array(X)\n",
    "y= np.array(y)"
   ]
  },
  {
   "cell_type": "code",
   "execution_count": 157,
   "metadata": {},
   "outputs": [
    {
     "data": {
      "text/plain": [
       "array([[ 1.05035197,  0.03608361,  0.15366994, -0.20872176, -0.22633529,\n",
       "         0.07190013],\n",
       "       [ 1.04070593,  0.05248472,  0.16020391, -0.20453307, -0.22288895,\n",
       "         0.07027318],\n",
       "       [ 1.07052848,  0.03390063,  0.19834174, -0.20815593, -0.22843161,\n",
       "         0.07040757],\n",
       "       ...,\n",
       "       [ 2.18775072,  0.72399379, -0.04694298, -0.1240152 , -0.3555519 ,\n",
       "        -0.3742596 ],\n",
       "       [ 2.17323085,  0.76483473, -0.16630029, -0.11638658, -0.3595942 ,\n",
       "        -0.37862044],\n",
       "       [ 2.21371423,  0.70888995, -0.01968097, -0.12413878, -0.36091259,\n",
       "        -0.37732746]])"
      ]
     },
     "execution_count": 157,
     "metadata": {},
     "output_type": "execute_result"
    }
   ],
   "source": [
    "X"
   ]
  },
  {
   "cell_type": "code",
   "execution_count": 158,
   "metadata": {},
   "outputs": [
    {
     "data": {
      "text/plain": [
       "array([[0],\n",
       "       [0],\n",
       "       [0],\n",
       "       ...,\n",
       "       [0],\n",
       "       [0],\n",
       "       [0]])"
      ]
     },
     "execution_count": 158,
     "metadata": {},
     "output_type": "execute_result"
    }
   ],
   "source": [
    "y=y.reshape(-1,1)\n",
    "y"
   ]
  },
  {
   "cell_type": "code",
   "execution_count": 159,
   "metadata": {},
   "outputs": [],
   "source": [
    "X_train, X_test, y_train, y_test = train_test_split(X, y, test_size=0.2, random_state=69)"
   ]
  },
  {
   "cell_type": "code",
   "execution_count": 160,
   "metadata": {},
   "outputs": [
    {
     "name": "stdout",
     "output_type": "stream",
     "text": [
      "(28670, 6)\n",
      "(7168, 6)\n",
      "(28670, 1)\n",
      "(7168, 1)\n"
     ]
    }
   ],
   "source": [
    "print(X_train.shape)\n",
    "print(X_test.shape)\n",
    "print(y_train.shape)\n",
    "print(y_test.shape)"
   ]
  },
  {
   "cell_type": "code",
   "execution_count": 161,
   "metadata": {},
   "outputs": [],
   "source": [
    "# scaler = StandardScaler()\n",
    "# X_train = scaler.fit_transform(X_train)\n",
    "# X_test = scaler.transform(X_test)\n",
    "# print(X_train.shape)\n",
    "# print(X_test.shape)\n",
    "# print(y_train.shape)\n",
    "# print(y_test.shape)"
   ]
  },
  {
   "cell_type": "code",
   "execution_count": 162,
   "metadata": {},
   "outputs": [],
   "source": [
    "## train dataclass TrainData(Dataset):\n",
    "#from http.client import _DataType\n",
    "\n",
    "\n",
    "class TrainData(Dataset):   \n",
    "    def __init__(self, X_data, y_data):\n",
    "        self.X_data = X_data\n",
    "        self.y_data = y_data\n",
    "        self.window=5\n",
    "        \n",
    "    def __getitem__(self, index):\n",
    "        if index>= self.length-self.window:\n",
    "            X=self.X_data[index:index+self.window,]\n",
    "            Y=self.y_data[index,]\n",
    "        else:\n",
    "            X=self.X_data[index:index+self.window,]  \n",
    "            Y=self.y_data[index+self.window,]\n",
    "        \n",
    "        return X,Y\n",
    "        \n",
    "    def __len__ (self):\n",
    "        Q = len(self.X_data)\n",
    "        self.length=Q-self.window+1\n",
    "        return self.length\n",
    "\n",
    "\n",
    "train_data = TrainData(torch.FloatTensor(X_train), \n",
    "                       torch.FloatTensor(y_train))\n",
    "\n",
    "## test data  \n",
    "# class TestData(Dataset):\n",
    "    \n",
    "#     def __init__(self, X_data,y_data):\n",
    "#         self.X_data = X_data\n",
    "#         self.y_data = y_data\n",
    "#         self.window=5\n",
    "#     def __getitem__(self, index):\n",
    "#         if index>= self.length-self.window:\n",
    "#             X=self.X_data[index:index+self.window]\n",
    "#             Y=self.y_data[index,]\n",
    "\n",
    "#         else:\n",
    "#             X=self.X_data[index:index+self.window]  \n",
    "#             Y=self.y_data[index+self.window,]\n",
    "        \n",
    "#         return X,Y\n",
    "#     def __len__ (self):\n",
    "#         Q = len(self.X_data)\n",
    "#         self.length=Q-self.window+1\n",
    "#         return self.length\n",
    "    \n",
    "\n",
    "test_data = TrainData(torch.FloatTensor(X_test),torch.FloatTensor(y_test))                      "
   ]
  },
  {
   "cell_type": "code",
   "execution_count": 163,
   "metadata": {},
   "outputs": [
    {
     "name": "stdout",
     "output_type": "stream",
     "text": [
      "25\n",
      "torch.Size([25, 5, 6])\n",
      "torch.Size([25, 1])\n",
      "torch.Size([25, 5, 6])\n",
      "torch.Size([25, 1])\n"
     ]
    }
   ],
   "source": [
    "\n",
    "\n",
    "\n",
    "batch_size=25\n",
    "\n",
    "train_loader = DataLoader(dataset=train_data, shuffle=True, batch_size=batch_size, drop_last=True)\n",
    "\n",
    "\n",
    "val_loader = DataLoader(dataset=test_data, shuffle=True, batch_size=batch_size, drop_last=True)\n",
    "print(next(iter(train_loader))[0].shape[0])\n",
    "#print(train_loader.batch_size)\n",
    "for each_x, each_y in train_loader:\n",
    "    print(each_x.shape)\n",
    "    print(each_y.shape)\n",
    "    break\n",
    "    \n",
    "    \n",
    "\n",
    "for each_x,each_y in val_loader:\n",
    "    print(each_x.shape)\n",
    "    print(each_y.shape)\n",
    "    break"
   ]
  },
  {
   "cell_type": "code",
   "execution_count": 164,
   "metadata": {},
   "outputs": [],
   "source": [
    "# torch.cuda.is_available() checks and returns a Boolean True if a GPU is available, else it'll return False\n",
    "is_cuda = torch.cuda.is_available()\n",
    "\n",
    "# If we have a GPU available, we'll set our device to GPU. We'll use this device variable later in our code.\n",
    "if is_cuda:\n",
    "    device = torch.device(\"cuda\")\n",
    "else:\n",
    "    device = torch.device(\"cpu\")"
   ]
  },
  {
   "cell_type": "code",
   "execution_count": 165,
   "metadata": {},
   "outputs": [],
   "source": [
    "class GRUNet(nn.Module):\n",
    "    def __init__(self, input_dim, hidden_dim, output_dim, n_layers, drop_prob=0.2):\n",
    "        super(GRUNet, self).__init__()\n",
    "        self.hidden_dim = hidden_dim\n",
    "        self.n_layers = n_layers\n",
    "        \n",
    "        self.gru = nn.GRU(input_dim, hidden_dim, n_layers, batch_first=True, dropout=drop_prob)\n",
    "        self.fc = nn.Linear(hidden_dim, output_dim)\n",
    "        self.relu = nn.ReLU()\n",
    "        \n",
    "    def forward(self, x, h):\n",
    "        #print(x,h)\n",
    "        out, h = self.gru(x, h)\n",
    "        out = self.fc(self.relu(out[:,-1]))\n",
    "        return out, h\n",
    "    \n",
    "    def init_hidden(self, batch_size):\n",
    "        weight = next(self.parameters()).data\n",
    "        hidden = weight.new(self.n_layers, batch_size, self.hidden_dim).zero_().to(device)\n",
    "        return hidden\n",
    "class LSTMNet(nn.Module):\n",
    "    def __init__(self, input_dim, hidden_dim, output_dim, n_layers, drop_prob=0.2):\n",
    "        super(LSTMNet, self).__init__()\n",
    "        self.hidden_dim = hidden_dim\n",
    "        self.n_layers = n_layers\n",
    "        \n",
    "        self.lstm = nn.LSTM(input_dim, hidden_dim, n_layers, batch_first=True, dropout=drop_prob)\n",
    "        self.fc = nn.Linear(hidden_dim, output_dim)\n",
    "        self.relu = nn.ReLU()\n",
    "        \n",
    "    def forward(self, x, h):\n",
    "        out, h = self.lstm(x, h)\n",
    "        out = self.fc(self.relu(out[:,-1]))\n",
    "        return out, h\n",
    "    \n",
    "    def init_hidden(self, batch_size):\n",
    "        weight = next(self.parameters()).data\n",
    "        hidden = (weight.new(self.n_layers, batch_size, self.hidden_dim).zero_().to(device),\n",
    "                  weight.new(self.n_layers, batch_size, self.hidden_dim).zero_().to(device))\n",
    "        return hidden"
   ]
  },
  {
   "cell_type": "code",
   "execution_count": 170,
   "metadata": {},
   "outputs": [],
   "source": [
    "\n",
    "def train(train_loader, learn_rate, hidden_dim=256, EPOCHS=5, model_type=\"GRU\"):\n",
    "    print(next(iter(train_loader))[0].shape[2])\n",
    "    # Setting common hyperparameters\n",
    "    input_dim = next(iter(train_loader))[0].shape[2]\n",
    "    output_dim = 1\n",
    "    n_layers = 2\n",
    "    # Instantiating the models\n",
    "    if model_type == \"GRU\":\n",
    "        model = GRUNet(input_dim, hidden_dim, output_dim, n_layers)\n",
    "    else:\n",
    "        model = LSTMNet(input_dim, hidden_dim, output_dim, n_layers)\n",
    "    model.to(device)\n",
    "    \n",
    "    # Defining loss function and optimizer\n",
    "    criterion = nn.MSELoss()\n",
    "    optimizer = torch.optim.Adam(model.parameters(), lr=learn_rate)\n",
    "    \n",
    "    model.train()\n",
    "    print(\"Starting Training of {} model\".format(model_type))\n",
    "    epoch_times = []\n",
    "    # Start training loop\n",
    "    for epoch in range(1,EPOCHS+1):\n",
    "        start_time = time.time()\n",
    "        h = model.init_hidden(batch_size)\n",
    "        avg_loss = 0.\n",
    "        counter = 0\n",
    "        for x, label in train_loader:\n",
    "            counter += 1\n",
    "            if model_type == \"GRU\":\n",
    "                h = h.data\n",
    "            else:\n",
    "                h = tuple([e.data for e in h])\n",
    "            model.zero_grad()\n",
    "            \n",
    "            out, h = model(x.to(device), h)\n",
    "            loss = criterion(out, label.to(device))\n",
    "            loss.backward()\n",
    "            optimizer.step()\n",
    "            avg_loss += loss.item()\n",
    "            if counter%200 == 0:\n",
    "                print(\"Epoch {}......Step: {}/{}....... Average Loss for Epoch: {}\".format(epoch, counter, len(train_loader), avg_loss/counter))\n",
    "        current_time = time.time()\n",
    "        print(\"Epoch {}/{} Done, Total Loss: {}\".format(epoch, EPOCHS, avg_loss/len(train_loader)))\n",
    "        print(\"Total Time Elapsed: {} seconds\".format(str(current_time-start_time)))\n",
    "        epoch_times.append(current_time-start_time)\n",
    "    print(\"Total Training Time: {} seconds\".format(str(sum(epoch_times))))\n",
    "    return model\n"
   ]
  },
  {
   "cell_type": "code",
   "execution_count": null,
   "metadata": {},
   "outputs": [],
   "source": []
  },
  {
   "cell_type": "code",
   "execution_count": 167,
   "metadata": {},
   "outputs": [],
   "source": [
    "def evaluate(model, test_x, test_y, label_scalers):\n",
    "    model.eval()\n",
    "    outputs = []\n",
    "    targets = []\n",
    "    start_time = time.time()\n",
    "    j=0\n",
    "    for i in test_x:\n",
    "        inp = torch.from_numpy(np.array(test_x[j]))\n",
    "        labs = torch.from_numpy(np.array(test_y[j]))\n",
    "        h = model.init_hidden(inp.shape[0])\n",
    "        out, h = model(inp.to(device).float(), h)\n",
    "        outputs.append(label_scalers[i].inverse_transform(out.cpu().detach().numpy()).reshape(-1))\n",
    "        targets.append(label_scalers[i].inverse_transform(labs.numpy()).reshape(-1))\n",
    "        j+=1\n",
    "    print(\"Evaluation Time: {}\".format(str(time.time()-start_time)))\n",
    "    sMAPE = 0\n",
    "    for i in range(len(outputs)):\n",
    "        sMAPE += np.mean(abs(outputs[i]-targets[i])/(targets[i]+outputs[i])/2)/len(outputs)\n",
    "    print(\"sMAPE: {}%\".format(sMAPE*100))\n",
    "    return outputs, targets, sMAPE"
   ]
  },
  {
   "cell_type": "code",
   "execution_count": 171,
   "metadata": {},
   "outputs": [
    {
     "name": "stdout",
     "output_type": "stream",
     "text": [
      "6\n",
      "Starting Training of GRU model\n",
      "Epoch 1......Step: 200/1146....... Average Loss for Epoch: 0.24341930935624986\n",
      "Epoch 1......Step: 400/1146....... Average Loss for Epoch: 0.24998593902448193\n",
      "Epoch 1......Step: 600/1146....... Average Loss for Epoch: 0.2494448852802937\n",
      "Epoch 1......Step: 800/1146....... Average Loss for Epoch: 0.2492673510790337\n",
      "Epoch 1......Step: 1000/1146....... Average Loss for Epoch: 0.2504814660632983\n",
      "Epoch 1/5 Done, Total Loss: 0.2516305697699895\n",
      "Total Time Elapsed: 3499.488090991974 seconds\n",
      "Epoch 2......Step: 200/1146....... Average Loss for Epoch: 0.260341687630862\n",
      "Epoch 2......Step: 400/1146....... Average Loss for Epoch: 0.25887798846699295\n",
      "Epoch 2......Step: 600/1146....... Average Loss for Epoch: 0.24901381958431254\n",
      "Epoch 2......Step: 800/1146....... Average Loss for Epoch: 0.24878525632550008\n",
      "Epoch 2......Step: 1000/1146....... Average Loss for Epoch: 0.2507775096585974\n",
      "Epoch 2/5 Done, Total Loss: 0.2507995098892658\n",
      "Total Time Elapsed: 3.9013826847076416 seconds\n",
      "Epoch 3......Step: 200/1146....... Average Loss for Epoch: 0.23928897187113762\n",
      "Epoch 3......Step: 400/1146....... Average Loss for Epoch: 0.2493729147175327\n",
      "Epoch 3......Step: 600/1146....... Average Loss for Epoch: 0.25433828162029387\n",
      "Epoch 3......Step: 800/1146....... Average Loss for Epoch: 0.24830073542194442\n",
      "Epoch 3......Step: 1000/1146....... Average Loss for Epoch: 0.25288081006519497\n",
      "Epoch 3/5 Done, Total Loss: 0.25054238032205045\n",
      "Total Time Elapsed: 3.4934144020080566 seconds\n",
      "Epoch 4......Step: 200/1146....... Average Loss for Epoch: 0.23830450320616364\n",
      "Epoch 4......Step: 400/1146....... Average Loss for Epoch: 0.24498945044819265\n",
      "Epoch 4......Step: 600/1146....... Average Loss for Epoch: 0.24885233502835036\n",
      "Epoch 4......Step: 800/1146....... Average Loss for Epoch: 0.25476357752690093\n",
      "Epoch 4......Step: 1000/1146....... Average Loss for Epoch: 0.252225148698315\n",
      "Epoch 4/5 Done, Total Loss: 0.2504848149583966\n",
      "Total Time Elapsed: 3.883394241333008 seconds\n",
      "Epoch 5......Step: 200/1146....... Average Loss for Epoch: 0.24596024023368954\n",
      "Epoch 5......Step: 400/1146....... Average Loss for Epoch: 0.2574099419731647\n",
      "Epoch 5......Step: 600/1146....... Average Loss for Epoch: 0.2551421478949487\n",
      "Epoch 5......Step: 800/1146....... Average Loss for Epoch: 0.24990997716784477\n",
      "Epoch 5......Step: 1000/1146....... Average Loss for Epoch: 0.2523097601830959\n",
      "Epoch 5/5 Done, Total Loss: 0.2505781939074423\n",
      "Total Time Elapsed: 3.541508674621582 seconds\n",
      "Total Training Time: 3514.307790994644 seconds\n"
     ]
    }
   ],
   "source": [
    "lr = 0.001\n",
    "gru_model = train(train_loader, lr, model_type=\"GRU\")\n",
    "#Lstm_model = train(train_loader, lr, model_type=\"LSTM\")"
   ]
  },
  {
   "cell_type": "code",
   "execution_count": 169,
   "metadata": {},
   "outputs": [],
   "source": [
    "#gru_outputs, targets, gru_sMAPE = evaluate(gru_model, X_test, y_test, y_test)"
   ]
  }
 ],
 "metadata": {
  "kernelspec": {
   "display_name": "Python 3.8.10 64-bit",
   "language": "python",
   "name": "python3"
  },
  "language_info": {
   "codemirror_mode": {
    "name": "ipython",
    "version": 3
   },
   "file_extension": ".py",
   "mimetype": "text/x-python",
   "name": "python",
   "nbconvert_exporter": "python",
   "pygments_lexer": "ipython3",
   "version": "3.8.10"
  },
  "orig_nbformat": 4,
  "vscode": {
   "interpreter": {
    "hash": "e7370f93d1d0cde622a1f8e1c04877d8463912d04d973331ad4851f04de6915a"
   }
  }
 },
 "nbformat": 4,
 "nbformat_minor": 2
}
